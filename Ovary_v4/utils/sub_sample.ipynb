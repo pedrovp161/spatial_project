{
 "cells": [
  {
   "cell_type": "code",
   "execution_count": 1,
   "metadata": {},
   "outputs": [
    {
     "name": "stderr",
     "output_type": "stream",
     "text": [
      "c:\\Users\\pedro\\mambaforge\\envs\\mambenv\\lib\\site-packages\\scvi\\_settings.py:63: UserWarning: Since v1.0.0, scvi-tools no longer uses a random seed by default. Run `scvi.settings.seed = 0` to reproduce results from previous versions.\n",
      "  self.seed = seed\n",
      "c:\\Users\\pedro\\mambaforge\\envs\\mambenv\\lib\\site-packages\\scvi\\_settings.py:70: UserWarning: Setting `dl_pin_memory_gpu_training` is deprecated in v1.0 and will be removed in v1.1. Please pass in `pin_memory` to the data loaders instead.\n",
      "  self.dl_pin_memory_gpu_training = (\n",
      "c:\\Users\\pedro\\mambaforge\\envs\\mambenv\\lib\\site-packages\\tqdm\\auto.py:21: TqdmWarning: IProgress not found. Please update jupyter and ipywidgets. See https://ipywidgets.readthedocs.io/en/stable/user_install.html\n",
      "  from .autonotebook import tqdm as notebook_tqdm\n"
     ]
    }
   ],
   "source": [
    "#import anndata\n",
    "import destvi_utils\n",
    "import matplotlib.pyplot as plt\n",
    "import scanpy as sc\n",
    "import numpy as np\n",
    "import scvi\n",
    "from scvi.model import CondSCVI, DestVI\n",
    "import pandas as pd\n",
    "######        dataset de caov filtrado\n",
    "# caov = sc.read_visium(\"C:\\\\Users\\\\pedro\\\\OneDrive\\\\Área de Trabalho\\\\spatial_ovary\\\\Ovary_v4\\\\data\\\\10x1\")\n",
    "# caov.var_names_make_unique()\n",
    "#PROJDIR = \"/home/pedrovideira/Desktop/Pedro/Ovary_v4\"\n",
    "#MODDIR = \"/home/pedrovideira/Desktop/Pedro/Ovary_v4/data/model\"\n",
    "#MODFILE = \"/home/pedrovideira/Desktop/Pedro/Ovary_v4/data/model/local.h5ad\"\n",
    "#QUERYDIR = \"/home/pedrovideira/Desktop/Pedro/Ovary_v4/data/10x1\"\n",
    "\n",
    "#\n",
    "\n",
    "#caov = sc.read_visium(\"/home/pedrovideira/Desktop/Pedro/Ovary_v4/data/10x2\")\n",
    "#caov = sc.read_visium(\"/home/pedrovideira/Desktop/Pedro/Ovary_v4/data/10x4\")\n",
    "\n",
    "#caov.var_names_make_unique()"
   ]
  },
  {
   "cell_type": "code",
   "execution_count": 2,
   "metadata": {},
   "outputs": [
    {
     "name": "stderr",
     "output_type": "stream",
     "text": [
      "Global seed set to 0\n"
     ]
    },
    {
     "name": "stdout",
     "output_type": "stream",
     "text": [
      "Last run with scvi-tools version: 1.0.3\n"
     ]
    }
   ],
   "source": [
    "scvi.settings.seed = 0\n",
    "print(\"Last run with scvi-tools version:\", scvi.__version__)"
   ]
  },
  {
   "cell_type": "code",
   "execution_count": 3,
   "metadata": {},
   "outputs": [],
   "source": [
    "sc.set_figure_params(figsize=(4, 4), frameon=False)"
   ]
  },
  {
   "cell_type": "code",
   "execution_count": 4,
   "metadata": {},
   "outputs": [
    {
     "name": "stderr",
     "output_type": "stream",
     "text": [
      "c:\\Users\\pedro\\mambaforge\\envs\\mambenv\\lib\\site-packages\\anndata\\_core\\anndata.py:1840: UserWarning: Variable names are not unique. To make them unique, call `.var_names_make_unique`.\n",
      "  utils.warn_names_duplicates(\"var\")\n"
     ]
    }
   ],
   "source": [
    "st_adata = sc.read_visium(\"C:\\\\Users\\\\pedro\\\\OneDrive\\\\Área de Trabalho\\\\projeto_INCA\\\\spatial_ovary\\\\Ovary_v4\\\\\\data\\\\10x2\")"
   ]
  },
  {
   "cell_type": "code",
   "execution_count": 6,
   "metadata": {},
   "outputs": [],
   "source": [
    "#st_adata = st_adata.write_h5ad(\"C:\\\\Users\\\\pedro\\\\OneDrive\\\\Área de Trabalho\\\\projeto_INCA\\\\spatial_ovary\\\\Ovary_v4\\\\\\data\\\\10x2.h5ad\")"
   ]
  },
  {
   "cell_type": "code",
   "execution_count": 7,
   "metadata": {},
   "outputs": [],
   "source": [
    "#st_adata = sc.read_h5ad(\"C:\\\\Users\\\\pedro\\\\OneDrive\\\\Área de Trabalho\\projeto_INCA\\\\\\spatial_ovary\\\\Ovary_v4\\\\data\\\\10x2.h5ad\")"
   ]
  },
  {
   "cell_type": "code",
   "execution_count": 5,
   "metadata": {},
   "outputs": [],
   "source": [
    "st_adata.var_names_make_unique()"
   ]
  },
  {
   "cell_type": "code",
   "execution_count": 6,
   "metadata": {},
   "outputs": [],
   "source": [
    "def pp(adata):\n",
    "    adata.var[\"mt\"] = adata.var_names.str.startswith(\"MT-\")\n",
    "    sc.pp.calculate_qc_metrics(adata, qc_vars=[\"mt\"], inplace=True)\n",
    "    sc.pp.filter_cells(adata, min_counts=3500)\n",
    "    sc.pp.filter_cells(adata, max_counts=35000)\n",
    "    adata = adata[adata.obs[\"pct_counts_mt\"] < 20]\n",
    "    sc.pp.filter_genes(adata, min_cells=10)  \n",
    "    sc.pp.normalize_total(adata, target_sum=10e4)\n",
    "    sc.pp.log1p(adata)\n",
    "    sc.pp.highly_variable_genes(adata, flavor=\"seurat\", n_top_genes=2000)  \n",
    "    sc.pp.pca(adata)\n",
    "    sc.pp.neighbors(adata)\n",
    "    sc.tl.umap(adata)\n",
    "    return adata"
   ]
  },
  {
   "cell_type": "code",
   "execution_count": 7,
   "metadata": {},
   "outputs": [
    {
     "name": "stderr",
     "output_type": "stream",
     "text": [
      "c:\\Users\\pedro\\mambaforge\\envs\\mambenv\\lib\\site-packages\\scanpy\\preprocessing\\_simple.py:251: ImplicitModificationWarning: Trying to modify attribute `.var` of view, initializing view as actual.\n",
      "  adata.var['n_cells'] = number\n",
      "c:\\Users\\pedro\\mambaforge\\envs\\mambenv\\lib\\site-packages\\umap\\distances.py:1063: NumbaDeprecationWarning: \u001b[1mThe 'nopython' keyword argument was not supplied to the 'numba.jit' decorator. The implicit default value for this argument is currently False, but it will be changed to True in Numba 0.59.0. See https://numba.readthedocs.io/en/stable/reference/deprecation.html#deprecation-of-object-mode-fall-back-behaviour-when-using-jit for details.\u001b[0m\n",
      "  @numba.jit()\n",
      "c:\\Users\\pedro\\mambaforge\\envs\\mambenv\\lib\\site-packages\\umap\\distances.py:1071: NumbaDeprecationWarning: \u001b[1mThe 'nopython' keyword argument was not supplied to the 'numba.jit' decorator. The implicit default value for this argument is currently False, but it will be changed to True in Numba 0.59.0. See https://numba.readthedocs.io/en/stable/reference/deprecation.html#deprecation-of-object-mode-fall-back-behaviour-when-using-jit for details.\u001b[0m\n",
      "  @numba.jit()\n",
      "c:\\Users\\pedro\\mambaforge\\envs\\mambenv\\lib\\site-packages\\umap\\distances.py:1086: NumbaDeprecationWarning: \u001b[1mThe 'nopython' keyword argument was not supplied to the 'numba.jit' decorator. The implicit default value for this argument is currently False, but it will be changed to True in Numba 0.59.0. See https://numba.readthedocs.io/en/stable/reference/deprecation.html#deprecation-of-object-mode-fall-back-behaviour-when-using-jit for details.\u001b[0m\n",
      "  @numba.jit()\n",
      "c:\\Users\\pedro\\mambaforge\\envs\\mambenv\\lib\\site-packages\\umap\\umap_.py:660: NumbaDeprecationWarning: \u001b[1mThe 'nopython' keyword argument was not supplied to the 'numba.jit' decorator. The implicit default value for this argument is currently False, but it will be changed to True in Numba 0.59.0. See https://numba.readthedocs.io/en/stable/reference/deprecation.html#deprecation-of-object-mode-fall-back-behaviour-when-using-jit for details.\u001b[0m\n",
      "  @numba.jit()\n"
     ]
    }
   ],
   "source": [
    "st_adata = pp(st_adata)"
   ]
  },
  {
   "cell_type": "code",
   "execution_count": 8,
   "metadata": {},
   "outputs": [],
   "source": [
    "st_adata.layers[\"counts\"] = st_adata.X.copy()\n",
    "st_adata.obsm[\"spatial\"] = st_adata.obsm[\"spatial\"]\n",
    "st_adata.raw = st_adata"
   ]
  },
  {
   "cell_type": "code",
   "execution_count": null,
   "metadata": {},
   "outputs": [],
   "source": []
  },
  {
   "cell_type": "code",
   "execution_count": null,
   "metadata": {},
   "outputs": [],
   "source": []
  },
  {
   "cell_type": "code",
   "execution_count": 9,
   "metadata": {},
   "outputs": [
    {
     "name": "stderr",
     "output_type": "stream",
     "text": [
      "c:\\Users\\pedro\\mambaforge\\envs\\mambenv\\lib\\site-packages\\anndata\\_core\\anndata.py:121: ImplicitModificationWarning: Transforming to str index.\n",
      "  warnings.warn(\"Transforming to str index.\", ImplicitModificationWarning)\n"
     ]
    }
   ],
   "source": [
    "#I have done the 0.1 filtration and extraction of the underexpressed celltype\n",
    "sc_adata = sc.read_h5ad(\"C:\\\\Users\\\\pedro\\\\OneDrive\\\\Área de Trabalho\\\\projeto_INCA\\\\spatial_ovary\\\\Ovary_v4\\\\data\\\\cellxgene_ovc_subset_raw.h5ad\")"
   ]
  },
  {
   "cell_type": "code",
   "execution_count": 10,
   "metadata": {},
   "outputs": [
    {
     "data": {
      "text/plain": [
       "<bound method AnnData.obs_keys of AnnData object with n_obs × n_vars = 92984 × 31897\n",
       "    obs: 'percent.mt', 'percent.rb', 'doublet', 'author_sample_id', 'S.Score', 'G2M.Score', 'Phase', 'CC.Diff', 'author_cell_type', 'nCount_RNA', 'nFeature_RNA', 'doublet_score', 'cell_id', 'organism_ontology_term_id', 'cell_type_ontology_term_id', 'tissue_ontology_term_id', 'assay_ontology_term_id', 'suspension_type', 'disease_ontology_term_id', 'self_reported_ethnicity_ontology_term_id', 'development_stage_ontology_term_id', 'sex_ontology_term_id', 'donor_id', 'author_tumor_supersite', 'author_tumor_site', 'author_tumor_subsite', 'author_sort_parameters', 'author_therapy', 'author_procedure', 'author_procedure_type', 'is_primary_data', 'cell_type', 'assay', 'disease', 'organism', 'sex', 'tissue', 'self_reported_ethnicity', 'development_stage'\n",
       "    var: 'feature_is_filtered', 'feature_name', 'feature_reference', 'feature_biotype'\n",
       "    uns: 'author_cell_type_colors', 'default_embedding', 'neighbors', 'schema_version', 'title'\n",
       "    obsm: 'X_pca', 'X_umap50'>"
      ]
     },
     "execution_count": 10,
     "metadata": {},
     "output_type": "execute_result"
    }
   ],
   "source": [
    "sc_adata.obs_keys"
   ]
  },
  {
   "cell_type": "code",
   "execution_count": 11,
   "metadata": {},
   "outputs": [
    {
     "data": {
      "text/html": [
       "<div>\n",
       "<style scoped>\n",
       "    .dataframe tbody tr th:only-of-type {\n",
       "        vertical-align: middle;\n",
       "    }\n",
       "\n",
       "    .dataframe tbody tr th {\n",
       "        vertical-align: top;\n",
       "    }\n",
       "\n",
       "    .dataframe thead th {\n",
       "        text-align: right;\n",
       "    }\n",
       "</style>\n",
       "<table border=\"1\" class=\"dataframe\">\n",
       "  <thead>\n",
       "    <tr style=\"text-align: right;\">\n",
       "      <th></th>\n",
       "      <th>feature_is_filtered</th>\n",
       "      <th>feature_name</th>\n",
       "      <th>feature_reference</th>\n",
       "      <th>feature_biotype</th>\n",
       "    </tr>\n",
       "    <tr>\n",
       "      <th>gene_ids</th>\n",
       "      <th></th>\n",
       "      <th></th>\n",
       "      <th></th>\n",
       "      <th></th>\n",
       "    </tr>\n",
       "  </thead>\n",
       "  <tbody>\n",
       "    <tr>\n",
       "      <th>ENSG00000243485</th>\n",
       "      <td>True</td>\n",
       "      <td>MIR1302-2HG</td>\n",
       "      <td>NCBITaxon:9606</td>\n",
       "      <td>gene</td>\n",
       "    </tr>\n",
       "    <tr>\n",
       "      <th>ENSG00000186092</th>\n",
       "      <td>True</td>\n",
       "      <td>OR4F5</td>\n",
       "      <td>NCBITaxon:9606</td>\n",
       "      <td>gene</td>\n",
       "    </tr>\n",
       "    <tr>\n",
       "      <th>ENSG00000238009</th>\n",
       "      <td>True</td>\n",
       "      <td>RP11-34P13.7</td>\n",
       "      <td>NCBITaxon:9606</td>\n",
       "      <td>gene</td>\n",
       "    </tr>\n",
       "    <tr>\n",
       "      <th>ENSG00000239945</th>\n",
       "      <td>True</td>\n",
       "      <td>RP11-34P13.8</td>\n",
       "      <td>NCBITaxon:9606</td>\n",
       "      <td>gene</td>\n",
       "    </tr>\n",
       "    <tr>\n",
       "      <th>ENSG00000241599</th>\n",
       "      <td>True</td>\n",
       "      <td>RP11-34P13.9</td>\n",
       "      <td>NCBITaxon:9606</td>\n",
       "      <td>gene</td>\n",
       "    </tr>\n",
       "  </tbody>\n",
       "</table>\n",
       "</div>"
      ],
      "text/plain": [
       "                 feature_is_filtered  feature_name feature_reference  \\\n",
       "gene_ids                                                               \n",
       "ENSG00000243485                 True   MIR1302-2HG    NCBITaxon:9606   \n",
       "ENSG00000186092                 True         OR4F5    NCBITaxon:9606   \n",
       "ENSG00000238009                 True  RP11-34P13.7    NCBITaxon:9606   \n",
       "ENSG00000239945                 True  RP11-34P13.8    NCBITaxon:9606   \n",
       "ENSG00000241599                 True  RP11-34P13.9    NCBITaxon:9606   \n",
       "\n",
       "                feature_biotype  \n",
       "gene_ids                         \n",
       "ENSG00000243485            gene  \n",
       "ENSG00000186092            gene  \n",
       "ENSG00000238009            gene  \n",
       "ENSG00000239945            gene  \n",
       "ENSG00000241599            gene  "
      ]
     },
     "execution_count": 11,
     "metadata": {},
     "output_type": "execute_result"
    }
   ],
   "source": [
    "sc_adata.var.head()"
   ]
  },
  {
   "cell_type": "code",
   "execution_count": 12,
   "metadata": {},
   "outputs": [
    {
     "data": {
      "text/html": [
       "<div>\n",
       "<style scoped>\n",
       "    .dataframe tbody tr th:only-of-type {\n",
       "        vertical-align: middle;\n",
       "    }\n",
       "\n",
       "    .dataframe tbody tr th {\n",
       "        vertical-align: top;\n",
       "    }\n",
       "\n",
       "    .dataframe thead th {\n",
       "        text-align: right;\n",
       "    }\n",
       "</style>\n",
       "<table border=\"1\" class=\"dataframe\">\n",
       "  <thead>\n",
       "    <tr style=\"text-align: right;\">\n",
       "      <th></th>\n",
       "      <th>percent.mt</th>\n",
       "      <th>percent.rb</th>\n",
       "      <th>doublet</th>\n",
       "      <th>author_sample_id</th>\n",
       "      <th>S.Score</th>\n",
       "      <th>G2M.Score</th>\n",
       "      <th>Phase</th>\n",
       "      <th>CC.Diff</th>\n",
       "      <th>author_cell_type</th>\n",
       "      <th>nCount_RNA</th>\n",
       "      <th>...</th>\n",
       "      <th>author_procedure_type</th>\n",
       "      <th>is_primary_data</th>\n",
       "      <th>cell_type</th>\n",
       "      <th>assay</th>\n",
       "      <th>disease</th>\n",
       "      <th>organism</th>\n",
       "      <th>sex</th>\n",
       "      <th>tissue</th>\n",
       "      <th>self_reported_ethnicity</th>\n",
       "      <th>development_stage</th>\n",
       "    </tr>\n",
       "    <tr>\n",
       "      <th>cell_id</th>\n",
       "      <th></th>\n",
       "      <th></th>\n",
       "      <th></th>\n",
       "      <th></th>\n",
       "      <th></th>\n",
       "      <th></th>\n",
       "      <th></th>\n",
       "      <th></th>\n",
       "      <th></th>\n",
       "      <th></th>\n",
       "      <th></th>\n",
       "      <th></th>\n",
       "      <th></th>\n",
       "      <th></th>\n",
       "      <th></th>\n",
       "      <th></th>\n",
       "      <th></th>\n",
       "      <th></th>\n",
       "      <th></th>\n",
       "      <th></th>\n",
       "      <th></th>\n",
       "    </tr>\n",
       "  </thead>\n",
       "  <tbody>\n",
       "    <tr>\n",
       "      <th>SPECTRUM-OV-107_S1_CD45N_RIGHT_ADNEXA_AAAGTGAGTACCGTCG</th>\n",
       "      <td>19.554073</td>\n",
       "      <td>27.321182</td>\n",
       "      <td>False</td>\n",
       "      <td>SPECTRUM-OV-107_S1_CD45N_RIGHT_ADNEXA</td>\n",
       "      <td>0.287920</td>\n",
       "      <td>-0.012686</td>\n",
       "      <td>S</td>\n",
       "      <td>0.300606</td>\n",
       "      <td>Ovarian.cancer.cell</td>\n",
       "      <td>24578</td>\n",
       "      <td>...</td>\n",
       "      <td>Primary Debulking</td>\n",
       "      <td>True</td>\n",
       "      <td>fallopian tube secretory epithelial cell</td>\n",
       "      <td>10x 3' v3</td>\n",
       "      <td>malignant ovarian serous tumor</td>\n",
       "      <td>Homo sapiens</td>\n",
       "      <td>female</td>\n",
       "      <td>adnexa of uterus</td>\n",
       "      <td>European</td>\n",
       "      <td>60-year-old human stage</td>\n",
       "    </tr>\n",
       "    <tr>\n",
       "      <th>SPECTRUM-OV-107_S1_CD45N_RIGHT_ADNEXA_AAAGTGATCACGACTA</th>\n",
       "      <td>23.133915</td>\n",
       "      <td>15.946035</td>\n",
       "      <td>False</td>\n",
       "      <td>SPECTRUM-OV-107_S1_CD45N_RIGHT_ADNEXA</td>\n",
       "      <td>0.034336</td>\n",
       "      <td>-0.270597</td>\n",
       "      <td>S</td>\n",
       "      <td>0.304934</td>\n",
       "      <td>Ovarian.cancer.cell</td>\n",
       "      <td>18086</td>\n",
       "      <td>...</td>\n",
       "      <td>Primary Debulking</td>\n",
       "      <td>True</td>\n",
       "      <td>fallopian tube secretory epithelial cell</td>\n",
       "      <td>10x 3' v3</td>\n",
       "      <td>malignant ovarian serous tumor</td>\n",
       "      <td>Homo sapiens</td>\n",
       "      <td>female</td>\n",
       "      <td>adnexa of uterus</td>\n",
       "      <td>European</td>\n",
       "      <td>60-year-old human stage</td>\n",
       "    </tr>\n",
       "    <tr>\n",
       "      <th>SPECTRUM-OV-107_S1_CD45N_RIGHT_ADNEXA_AAATGGAAGAGAATCT</th>\n",
       "      <td>7.663100</td>\n",
       "      <td>25.440111</td>\n",
       "      <td>False</td>\n",
       "      <td>SPECTRUM-OV-107_S1_CD45N_RIGHT_ADNEXA</td>\n",
       "      <td>-0.032844</td>\n",
       "      <td>-0.088485</td>\n",
       "      <td>G1</td>\n",
       "      <td>0.055640</td>\n",
       "      <td>Ovarian.cancer.cell</td>\n",
       "      <td>8691</td>\n",
       "      <td>...</td>\n",
       "      <td>Primary Debulking</td>\n",
       "      <td>True</td>\n",
       "      <td>fallopian tube secretory epithelial cell</td>\n",
       "      <td>10x 3' v3</td>\n",
       "      <td>malignant ovarian serous tumor</td>\n",
       "      <td>Homo sapiens</td>\n",
       "      <td>female</td>\n",
       "      <td>adnexa of uterus</td>\n",
       "      <td>European</td>\n",
       "      <td>60-year-old human stage</td>\n",
       "    </tr>\n",
       "    <tr>\n",
       "      <th>SPECTRUM-OV-107_S1_CD45N_RIGHT_ADNEXA_AACCCAAGTACGATGG</th>\n",
       "      <td>17.491917</td>\n",
       "      <td>9.383123</td>\n",
       "      <td>False</td>\n",
       "      <td>SPECTRUM-OV-107_S1_CD45N_RIGHT_ADNEXA</td>\n",
       "      <td>-0.231347</td>\n",
       "      <td>-0.369328</td>\n",
       "      <td>G1</td>\n",
       "      <td>0.137980</td>\n",
       "      <td>Ovarian.cancer.cell</td>\n",
       "      <td>15773</td>\n",
       "      <td>...</td>\n",
       "      <td>Primary Debulking</td>\n",
       "      <td>True</td>\n",
       "      <td>fallopian tube secretory epithelial cell</td>\n",
       "      <td>10x 3' v3</td>\n",
       "      <td>malignant ovarian serous tumor</td>\n",
       "      <td>Homo sapiens</td>\n",
       "      <td>female</td>\n",
       "      <td>adnexa of uterus</td>\n",
       "      <td>European</td>\n",
       "      <td>60-year-old human stage</td>\n",
       "    </tr>\n",
       "    <tr>\n",
       "      <th>SPECTRUM-OV-107_S1_CD45N_RIGHT_ADNEXA_AACGAAAGTGTTAAAG</th>\n",
       "      <td>11.854647</td>\n",
       "      <td>18.635822</td>\n",
       "      <td>False</td>\n",
       "      <td>SPECTRUM-OV-107_S1_CD45N_RIGHT_ADNEXA</td>\n",
       "      <td>-0.070440</td>\n",
       "      <td>-0.190662</td>\n",
       "      <td>G1</td>\n",
       "      <td>0.120222</td>\n",
       "      <td>Ovarian.cancer.cell</td>\n",
       "      <td>10072</td>\n",
       "      <td>...</td>\n",
       "      <td>Primary Debulking</td>\n",
       "      <td>True</td>\n",
       "      <td>fallopian tube secretory epithelial cell</td>\n",
       "      <td>10x 3' v3</td>\n",
       "      <td>malignant ovarian serous tumor</td>\n",
       "      <td>Homo sapiens</td>\n",
       "      <td>female</td>\n",
       "      <td>adnexa of uterus</td>\n",
       "      <td>European</td>\n",
       "      <td>60-year-old human stage</td>\n",
       "    </tr>\n",
       "  </tbody>\n",
       "</table>\n",
       "<p>5 rows × 39 columns</p>\n",
       "</div>"
      ],
      "text/plain": [
       "                                                    percent.mt  percent.rb  \\\n",
       "cell_id                                                                      \n",
       "SPECTRUM-OV-107_S1_CD45N_RIGHT_ADNEXA_AAAGTGAGT...   19.554073   27.321182   \n",
       "SPECTRUM-OV-107_S1_CD45N_RIGHT_ADNEXA_AAAGTGATC...   23.133915   15.946035   \n",
       "SPECTRUM-OV-107_S1_CD45N_RIGHT_ADNEXA_AAATGGAAG...    7.663100   25.440111   \n",
       "SPECTRUM-OV-107_S1_CD45N_RIGHT_ADNEXA_AACCCAAGT...   17.491917    9.383123   \n",
       "SPECTRUM-OV-107_S1_CD45N_RIGHT_ADNEXA_AACGAAAGT...   11.854647   18.635822   \n",
       "\n",
       "                                                    doublet  \\\n",
       "cell_id                                                       \n",
       "SPECTRUM-OV-107_S1_CD45N_RIGHT_ADNEXA_AAAGTGAGT...    False   \n",
       "SPECTRUM-OV-107_S1_CD45N_RIGHT_ADNEXA_AAAGTGATC...    False   \n",
       "SPECTRUM-OV-107_S1_CD45N_RIGHT_ADNEXA_AAATGGAAG...    False   \n",
       "SPECTRUM-OV-107_S1_CD45N_RIGHT_ADNEXA_AACCCAAGT...    False   \n",
       "SPECTRUM-OV-107_S1_CD45N_RIGHT_ADNEXA_AACGAAAGT...    False   \n",
       "\n",
       "                                                                         author_sample_id  \\\n",
       "cell_id                                                                                     \n",
       "SPECTRUM-OV-107_S1_CD45N_RIGHT_ADNEXA_AAAGTGAGT...  SPECTRUM-OV-107_S1_CD45N_RIGHT_ADNEXA   \n",
       "SPECTRUM-OV-107_S1_CD45N_RIGHT_ADNEXA_AAAGTGATC...  SPECTRUM-OV-107_S1_CD45N_RIGHT_ADNEXA   \n",
       "SPECTRUM-OV-107_S1_CD45N_RIGHT_ADNEXA_AAATGGAAG...  SPECTRUM-OV-107_S1_CD45N_RIGHT_ADNEXA   \n",
       "SPECTRUM-OV-107_S1_CD45N_RIGHT_ADNEXA_AACCCAAGT...  SPECTRUM-OV-107_S1_CD45N_RIGHT_ADNEXA   \n",
       "SPECTRUM-OV-107_S1_CD45N_RIGHT_ADNEXA_AACGAAAGT...  SPECTRUM-OV-107_S1_CD45N_RIGHT_ADNEXA   \n",
       "\n",
       "                                                     S.Score  G2M.Score Phase  \\\n",
       "cell_id                                                                         \n",
       "SPECTRUM-OV-107_S1_CD45N_RIGHT_ADNEXA_AAAGTGAGT...  0.287920  -0.012686     S   \n",
       "SPECTRUM-OV-107_S1_CD45N_RIGHT_ADNEXA_AAAGTGATC...  0.034336  -0.270597     S   \n",
       "SPECTRUM-OV-107_S1_CD45N_RIGHT_ADNEXA_AAATGGAAG... -0.032844  -0.088485    G1   \n",
       "SPECTRUM-OV-107_S1_CD45N_RIGHT_ADNEXA_AACCCAAGT... -0.231347  -0.369328    G1   \n",
       "SPECTRUM-OV-107_S1_CD45N_RIGHT_ADNEXA_AACGAAAGT... -0.070440  -0.190662    G1   \n",
       "\n",
       "                                                     CC.Diff  \\\n",
       "cell_id                                                        \n",
       "SPECTRUM-OV-107_S1_CD45N_RIGHT_ADNEXA_AAAGTGAGT...  0.300606   \n",
       "SPECTRUM-OV-107_S1_CD45N_RIGHT_ADNEXA_AAAGTGATC...  0.304934   \n",
       "SPECTRUM-OV-107_S1_CD45N_RIGHT_ADNEXA_AAATGGAAG...  0.055640   \n",
       "SPECTRUM-OV-107_S1_CD45N_RIGHT_ADNEXA_AACCCAAGT...  0.137980   \n",
       "SPECTRUM-OV-107_S1_CD45N_RIGHT_ADNEXA_AACGAAAGT...  0.120222   \n",
       "\n",
       "                                                       author_cell_type  \\\n",
       "cell_id                                                                   \n",
       "SPECTRUM-OV-107_S1_CD45N_RIGHT_ADNEXA_AAAGTGAGT...  Ovarian.cancer.cell   \n",
       "SPECTRUM-OV-107_S1_CD45N_RIGHT_ADNEXA_AAAGTGATC...  Ovarian.cancer.cell   \n",
       "SPECTRUM-OV-107_S1_CD45N_RIGHT_ADNEXA_AAATGGAAG...  Ovarian.cancer.cell   \n",
       "SPECTRUM-OV-107_S1_CD45N_RIGHT_ADNEXA_AACCCAAGT...  Ovarian.cancer.cell   \n",
       "SPECTRUM-OV-107_S1_CD45N_RIGHT_ADNEXA_AACGAAAGT...  Ovarian.cancer.cell   \n",
       "\n",
       "                                                    nCount_RNA  ...  \\\n",
       "cell_id                                                         ...   \n",
       "SPECTRUM-OV-107_S1_CD45N_RIGHT_ADNEXA_AAAGTGAGT...       24578  ...   \n",
       "SPECTRUM-OV-107_S1_CD45N_RIGHT_ADNEXA_AAAGTGATC...       18086  ...   \n",
       "SPECTRUM-OV-107_S1_CD45N_RIGHT_ADNEXA_AAATGGAAG...        8691  ...   \n",
       "SPECTRUM-OV-107_S1_CD45N_RIGHT_ADNEXA_AACCCAAGT...       15773  ...   \n",
       "SPECTRUM-OV-107_S1_CD45N_RIGHT_ADNEXA_AACGAAAGT...       10072  ...   \n",
       "\n",
       "                                                    author_procedure_type  \\\n",
       "cell_id                                                                     \n",
       "SPECTRUM-OV-107_S1_CD45N_RIGHT_ADNEXA_AAAGTGAGT...      Primary Debulking   \n",
       "SPECTRUM-OV-107_S1_CD45N_RIGHT_ADNEXA_AAAGTGATC...      Primary Debulking   \n",
       "SPECTRUM-OV-107_S1_CD45N_RIGHT_ADNEXA_AAATGGAAG...      Primary Debulking   \n",
       "SPECTRUM-OV-107_S1_CD45N_RIGHT_ADNEXA_AACCCAAGT...      Primary Debulking   \n",
       "SPECTRUM-OV-107_S1_CD45N_RIGHT_ADNEXA_AACGAAAGT...      Primary Debulking   \n",
       "\n",
       "                                                    is_primary_data  \\\n",
       "cell_id                                                               \n",
       "SPECTRUM-OV-107_S1_CD45N_RIGHT_ADNEXA_AAAGTGAGT...             True   \n",
       "SPECTRUM-OV-107_S1_CD45N_RIGHT_ADNEXA_AAAGTGATC...             True   \n",
       "SPECTRUM-OV-107_S1_CD45N_RIGHT_ADNEXA_AAATGGAAG...             True   \n",
       "SPECTRUM-OV-107_S1_CD45N_RIGHT_ADNEXA_AACCCAAGT...             True   \n",
       "SPECTRUM-OV-107_S1_CD45N_RIGHT_ADNEXA_AACGAAAGT...             True   \n",
       "\n",
       "                                                                                   cell_type  \\\n",
       "cell_id                                                                                        \n",
       "SPECTRUM-OV-107_S1_CD45N_RIGHT_ADNEXA_AAAGTGAGT...  fallopian tube secretory epithelial cell   \n",
       "SPECTRUM-OV-107_S1_CD45N_RIGHT_ADNEXA_AAAGTGATC...  fallopian tube secretory epithelial cell   \n",
       "SPECTRUM-OV-107_S1_CD45N_RIGHT_ADNEXA_AAATGGAAG...  fallopian tube secretory epithelial cell   \n",
       "SPECTRUM-OV-107_S1_CD45N_RIGHT_ADNEXA_AACCCAAGT...  fallopian tube secretory epithelial cell   \n",
       "SPECTRUM-OV-107_S1_CD45N_RIGHT_ADNEXA_AACGAAAGT...  fallopian tube secretory epithelial cell   \n",
       "\n",
       "                                                        assay  \\\n",
       "cell_id                                                         \n",
       "SPECTRUM-OV-107_S1_CD45N_RIGHT_ADNEXA_AAAGTGAGT...  10x 3' v3   \n",
       "SPECTRUM-OV-107_S1_CD45N_RIGHT_ADNEXA_AAAGTGATC...  10x 3' v3   \n",
       "SPECTRUM-OV-107_S1_CD45N_RIGHT_ADNEXA_AAATGGAAG...  10x 3' v3   \n",
       "SPECTRUM-OV-107_S1_CD45N_RIGHT_ADNEXA_AACCCAAGT...  10x 3' v3   \n",
       "SPECTRUM-OV-107_S1_CD45N_RIGHT_ADNEXA_AACGAAAGT...  10x 3' v3   \n",
       "\n",
       "                                                                           disease  \\\n",
       "cell_id                                                                              \n",
       "SPECTRUM-OV-107_S1_CD45N_RIGHT_ADNEXA_AAAGTGAGT...  malignant ovarian serous tumor   \n",
       "SPECTRUM-OV-107_S1_CD45N_RIGHT_ADNEXA_AAAGTGATC...  malignant ovarian serous tumor   \n",
       "SPECTRUM-OV-107_S1_CD45N_RIGHT_ADNEXA_AAATGGAAG...  malignant ovarian serous tumor   \n",
       "SPECTRUM-OV-107_S1_CD45N_RIGHT_ADNEXA_AACCCAAGT...  malignant ovarian serous tumor   \n",
       "SPECTRUM-OV-107_S1_CD45N_RIGHT_ADNEXA_AACGAAAGT...  malignant ovarian serous tumor   \n",
       "\n",
       "                                                        organism     sex  \\\n",
       "cell_id                                                                    \n",
       "SPECTRUM-OV-107_S1_CD45N_RIGHT_ADNEXA_AAAGTGAGT...  Homo sapiens  female   \n",
       "SPECTRUM-OV-107_S1_CD45N_RIGHT_ADNEXA_AAAGTGATC...  Homo sapiens  female   \n",
       "SPECTRUM-OV-107_S1_CD45N_RIGHT_ADNEXA_AAATGGAAG...  Homo sapiens  female   \n",
       "SPECTRUM-OV-107_S1_CD45N_RIGHT_ADNEXA_AACCCAAGT...  Homo sapiens  female   \n",
       "SPECTRUM-OV-107_S1_CD45N_RIGHT_ADNEXA_AACGAAAGT...  Homo sapiens  female   \n",
       "\n",
       "                                                              tissue  \\\n",
       "cell_id                                                                \n",
       "SPECTRUM-OV-107_S1_CD45N_RIGHT_ADNEXA_AAAGTGAGT...  adnexa of uterus   \n",
       "SPECTRUM-OV-107_S1_CD45N_RIGHT_ADNEXA_AAAGTGATC...  adnexa of uterus   \n",
       "SPECTRUM-OV-107_S1_CD45N_RIGHT_ADNEXA_AAATGGAAG...  adnexa of uterus   \n",
       "SPECTRUM-OV-107_S1_CD45N_RIGHT_ADNEXA_AACCCAAGT...  adnexa of uterus   \n",
       "SPECTRUM-OV-107_S1_CD45N_RIGHT_ADNEXA_AACGAAAGT...  adnexa of uterus   \n",
       "\n",
       "                                                   self_reported_ethnicity  \\\n",
       "cell_id                                                                      \n",
       "SPECTRUM-OV-107_S1_CD45N_RIGHT_ADNEXA_AAAGTGAGT...                European   \n",
       "SPECTRUM-OV-107_S1_CD45N_RIGHT_ADNEXA_AAAGTGATC...                European   \n",
       "SPECTRUM-OV-107_S1_CD45N_RIGHT_ADNEXA_AAATGGAAG...                European   \n",
       "SPECTRUM-OV-107_S1_CD45N_RIGHT_ADNEXA_AACCCAAGT...                European   \n",
       "SPECTRUM-OV-107_S1_CD45N_RIGHT_ADNEXA_AACGAAAGT...                European   \n",
       "\n",
       "                                                          development_stage  \n",
       "cell_id                                                                      \n",
       "SPECTRUM-OV-107_S1_CD45N_RIGHT_ADNEXA_AAAGTGAGT...  60-year-old human stage  \n",
       "SPECTRUM-OV-107_S1_CD45N_RIGHT_ADNEXA_AAAGTGATC...  60-year-old human stage  \n",
       "SPECTRUM-OV-107_S1_CD45N_RIGHT_ADNEXA_AAATGGAAG...  60-year-old human stage  \n",
       "SPECTRUM-OV-107_S1_CD45N_RIGHT_ADNEXA_AACCCAAGT...  60-year-old human stage  \n",
       "SPECTRUM-OV-107_S1_CD45N_RIGHT_ADNEXA_AACGAAAGT...  60-year-old human stage  \n",
       "\n",
       "[5 rows x 39 columns]"
      ]
     },
     "execution_count": 12,
     "metadata": {},
     "output_type": "execute_result"
    }
   ],
   "source": [
    "sc_adata.obs.head()"
   ]
  },
  {
   "cell_type": "code",
   "execution_count": 14,
   "metadata": {},
   "outputs": [],
   "source": [
    "#sc_adata = sc_adata.to_memory()"
   ]
  },
  {
   "cell_type": "code",
   "execution_count": 13,
   "metadata": {},
   "outputs": [],
   "source": [
    "# filter genes to be the same on the spatial data\n",
    "intersect = np.intersect1d(sc_adata.var_names, st_adata.var_names)\n",
    "st_adata = st_adata[:, intersect].copy()\n",
    "sc_adata = sc_adata[:, intersect].copy()\n",
    "G = len(intersect)"
   ]
  },
  {
   "cell_type": "code",
   "execution_count": 14,
   "metadata": {},
   "outputs": [],
   "source": [
    "sc_adata.layers[\"counts\"] = sc_adata.X.copy()"
   ]
  },
  {
   "cell_type": "code",
   "execution_count": 18,
   "metadata": {},
   "outputs": [
    {
     "data": {
      "text/plain": [
       "<bound method AnnData.obs_keys of AnnData object with n_obs × n_vars = 92984 × 0\n",
       "    obs: 'percent.mt', 'percent.rb', 'doublet', 'author_sample_id', 'S.Score', 'G2M.Score', 'Phase', 'CC.Diff', 'author_cell_type', 'nCount_RNA', 'nFeature_RNA', 'doublet_score', 'cell_id', 'organism_ontology_term_id', 'cell_type_ontology_term_id', 'tissue_ontology_term_id', 'assay_ontology_term_id', 'suspension_type', 'disease_ontology_term_id', 'self_reported_ethnicity_ontology_term_id', 'development_stage_ontology_term_id', 'sex_ontology_term_id', 'donor_id', 'author_tumor_supersite', 'author_tumor_site', 'author_tumor_subsite', 'author_sort_parameters', 'author_therapy', 'author_procedure', 'author_procedure_type', 'is_primary_data', 'cell_type', 'assay', 'disease', 'organism', 'sex', 'tissue', 'self_reported_ethnicity', 'development_stage'\n",
       "    var: 'feature_is_filtered', 'feature_name', 'feature_reference', 'feature_biotype'\n",
       "    uns: 'author_cell_type_colors', 'default_embedding', 'neighbors', 'schema_version', 'title'\n",
       "    obsm: 'X_pca', 'X_umap50'\n",
       "    layers: 'counts'>"
      ]
     },
     "execution_count": 18,
     "metadata": {},
     "output_type": "execute_result"
    }
   ],
   "source": [
    "sc_adata.obs_keys"
   ]
  },
  {
   "cell_type": "code",
   "execution_count": 19,
   "metadata": {},
   "outputs": [],
   "source": [
    "CondSCVI.setup_anndata(sc_adata, layer=\"counts\", labels_key=\"cell_type\")"
   ]
  },
  {
   "cell_type": "code",
   "execution_count": 20,
   "metadata": {},
   "outputs": [
    {
     "name": "stderr",
     "output_type": "stream",
     "text": [
      "c:\\Users\\pedro\\mambaforge\\envs\\mambenv\\lib\\site-packages\\torch\\nn\\init.py:405: UserWarning: Initializing zero-element tensors is a no-op\n",
      "  warnings.warn(\"Initializing zero-element tensors is a no-op\")\n"
     ]
    },
    {
     "data": {
      "text/html": [
       "<pre style=\"white-space:pre;overflow-x:auto;line-height:normal;font-family:Menlo,'DejaVu Sans Mono',consolas,'Courier New',monospace\">Anndata setup with scvi-tools version <span style=\"color: #008080; text-decoration-color: #008080; font-weight: bold\">1.0</span>.<span style=\"color: #008080; text-decoration-color: #008080; font-weight: bold\">3</span>.\n",
       "</pre>\n"
      ],
      "text/plain": [
       "Anndata setup with scvi-tools version \u001b[1;36m1.0\u001b[0m.\u001b[1;36m3\u001b[0m.\n"
      ]
     },
     "metadata": {},
     "output_type": "display_data"
    },
    {
     "data": {
      "text/html": [
       "<pre style=\"white-space:pre;overflow-x:auto;line-height:normal;font-family:Menlo,'DejaVu Sans Mono',consolas,'Courier New',monospace\">\n",
       "</pre>\n"
      ],
      "text/plain": [
       "\n"
      ]
     },
     "metadata": {},
     "output_type": "display_data"
    },
    {
     "data": {
      "text/html": [
       "<pre style=\"white-space:pre;overflow-x:auto;line-height:normal;font-family:Menlo,'DejaVu Sans Mono',consolas,'Courier New',monospace\">Setup via `CondSCVI.setup_anndata` with arguments:\n",
       "</pre>\n"
      ],
      "text/plain": [
       "Setup via `CondSCVI.setup_anndata` with arguments:\n"
      ]
     },
     "metadata": {},
     "output_type": "display_data"
    },
    {
     "data": {
      "text/html": [
       "<pre style=\"white-space:pre;overflow-x:auto;line-height:normal;font-family:Menlo,'DejaVu Sans Mono',consolas,'Courier New',monospace\"><span style=\"font-weight: bold\">{</span><span style=\"color: #008000; text-decoration-color: #008000\">'labels_key'</span>: <span style=\"color: #008000; text-decoration-color: #008000\">'cell_type'</span>, <span style=\"color: #008000; text-decoration-color: #008000\">'layer'</span>: <span style=\"color: #008000; text-decoration-color: #008000\">'counts'</span><span style=\"font-weight: bold\">}</span>\n",
       "</pre>\n"
      ],
      "text/plain": [
       "\u001b[1m{\u001b[0m\u001b[32m'labels_key'\u001b[0m: \u001b[32m'cell_type'\u001b[0m, \u001b[32m'layer'\u001b[0m: \u001b[32m'counts'\u001b[0m\u001b[1m}\u001b[0m\n"
      ]
     },
     "metadata": {},
     "output_type": "display_data"
    },
    {
     "data": {
      "text/html": [
       "<pre style=\"white-space:pre;overflow-x:auto;line-height:normal;font-family:Menlo,'DejaVu Sans Mono',consolas,'Courier New',monospace\">\n",
       "</pre>\n"
      ],
      "text/plain": [
       "\n"
      ]
     },
     "metadata": {},
     "output_type": "display_data"
    },
    {
     "data": {
      "text/html": [
       "<pre style=\"white-space:pre;overflow-x:auto;line-height:normal;font-family:Menlo,'DejaVu Sans Mono',consolas,'Courier New',monospace\"><span style=\"font-style: italic\">     Summary Statistics     </span>\n",
       "┏━━━━━━━━━━━━━━━━━━┳━━━━━━━┓\n",
       "┃<span style=\"font-weight: bold\"> Summary Stat Key </span>┃<span style=\"font-weight: bold\"> Value </span>┃\n",
       "┡━━━━━━━━━━━━━━━━━━╇━━━━━━━┩\n",
       "│<span style=\"color: #0087ff; text-decoration-color: #0087ff\">     n_cells      </span>│<span style=\"color: #af00d7; text-decoration-color: #af00d7\"> 92984 </span>│\n",
       "│<span style=\"color: #0087ff; text-decoration-color: #0087ff\">     n_labels     </span>│<span style=\"color: #af00d7; text-decoration-color: #af00d7\">   9   </span>│\n",
       "│<span style=\"color: #0087ff; text-decoration-color: #0087ff\">      n_vars      </span>│<span style=\"color: #af00d7; text-decoration-color: #af00d7\">   0   </span>│\n",
       "└──────────────────┴───────┘\n",
       "</pre>\n"
      ],
      "text/plain": [
       "\u001b[3m     Summary Statistics     \u001b[0m\n",
       "┏━━━━━━━━━━━━━━━━━━┳━━━━━━━┓\n",
       "┃\u001b[1m \u001b[0m\u001b[1mSummary Stat Key\u001b[0m\u001b[1m \u001b[0m┃\u001b[1m \u001b[0m\u001b[1mValue\u001b[0m\u001b[1m \u001b[0m┃\n",
       "┡━━━━━━━━━━━━━━━━━━╇━━━━━━━┩\n",
       "│\u001b[38;5;33m \u001b[0m\u001b[38;5;33m    n_cells     \u001b[0m\u001b[38;5;33m \u001b[0m│\u001b[38;5;128m \u001b[0m\u001b[38;5;128m92984\u001b[0m\u001b[38;5;128m \u001b[0m│\n",
       "│\u001b[38;5;33m \u001b[0m\u001b[38;5;33m    n_labels    \u001b[0m\u001b[38;5;33m \u001b[0m│\u001b[38;5;128m \u001b[0m\u001b[38;5;128m  9  \u001b[0m\u001b[38;5;128m \u001b[0m│\n",
       "│\u001b[38;5;33m \u001b[0m\u001b[38;5;33m     n_vars     \u001b[0m\u001b[38;5;33m \u001b[0m│\u001b[38;5;128m \u001b[0m\u001b[38;5;128m  0  \u001b[0m\u001b[38;5;128m \u001b[0m│\n",
       "└──────────────────┴───────┘\n"
      ]
     },
     "metadata": {},
     "output_type": "display_data"
    },
    {
     "data": {
      "text/html": [
       "<pre style=\"white-space:pre;overflow-x:auto;line-height:normal;font-family:Menlo,'DejaVu Sans Mono',consolas,'Courier New',monospace\"><span style=\"font-style: italic\">               Data Registry                </span>\n",
       "┏━━━━━━━━━━━━━━┳━━━━━━━━━━━━━━━━━━━━━━━━━━━┓\n",
       "┃<span style=\"font-weight: bold\"> Registry Key </span>┃<span style=\"font-weight: bold\">    scvi-tools Location    </span>┃\n",
       "┡━━━━━━━━━━━━━━╇━━━━━━━━━━━━━━━━━━━━━━━━━━━┩\n",
       "│<span style=\"color: #0087ff; text-decoration-color: #0087ff\">      X       </span>│<span style=\"color: #af00d7; text-decoration-color: #af00d7\">  adata.layers['counts']   </span>│\n",
       "│<span style=\"color: #0087ff; text-decoration-color: #0087ff\">    labels    </span>│<span style=\"color: #af00d7; text-decoration-color: #af00d7\"> adata.obs['_scvi_labels'] </span>│\n",
       "└──────────────┴───────────────────────────┘\n",
       "</pre>\n"
      ],
      "text/plain": [
       "\u001b[3m               Data Registry                \u001b[0m\n",
       "┏━━━━━━━━━━━━━━┳━━━━━━━━━━━━━━━━━━━━━━━━━━━┓\n",
       "┃\u001b[1m \u001b[0m\u001b[1mRegistry Key\u001b[0m\u001b[1m \u001b[0m┃\u001b[1m \u001b[0m\u001b[1m   scvi-tools Location   \u001b[0m\u001b[1m \u001b[0m┃\n",
       "┡━━━━━━━━━━━━━━╇━━━━━━━━━━━━━━━━━━━━━━━━━━━┩\n",
       "│\u001b[38;5;33m \u001b[0m\u001b[38;5;33m     X      \u001b[0m\u001b[38;5;33m \u001b[0m│\u001b[38;5;128m \u001b[0m\u001b[38;5;128m adata.layers['counts']  \u001b[0m\u001b[38;5;128m \u001b[0m│\n",
       "│\u001b[38;5;33m \u001b[0m\u001b[38;5;33m   labels   \u001b[0m\u001b[38;5;33m \u001b[0m│\u001b[38;5;128m \u001b[0m\u001b[38;5;128madata.obs['_scvi_labels']\u001b[0m\u001b[38;5;128m \u001b[0m│\n",
       "└──────────────┴───────────────────────────┘\n"
      ]
     },
     "metadata": {},
     "output_type": "display_data"
    },
    {
     "data": {
      "text/html": [
       "<pre style=\"white-space:pre;overflow-x:auto;line-height:normal;font-family:Menlo,'DejaVu Sans Mono',consolas,'Courier New',monospace\"><span style=\"font-style: italic\">                                   labels State Registry                                   </span>\n",
       "┏━━━━━━━━━━━━━━━━━━━━━━━━┳━━━━━━━━━━━━━━━━━━━━━━━━━━━━━━━━━━━━━━━━━━┳━━━━━━━━━━━━━━━━━━━━━┓\n",
       "┃<span style=\"font-weight: bold\">    Source Location     </span>┃<span style=\"font-weight: bold\">                Categories                </span>┃<span style=\"font-weight: bold\"> scvi-tools Encoding </span>┃\n",
       "┡━━━━━━━━━━━━━━━━━━━━━━━━╇━━━━━━━━━━━━━━━━━━━━━━━━━━━━━━━━━━━━━━━━━━╇━━━━━━━━━━━━━━━━━━━━━┩\n",
       "│<span style=\"color: #0087ff; text-decoration-color: #0087ff\"> adata.obs['cell_type'] </span>│<span style=\"color: #008000; text-decoration-color: #008000\">                fibroblast                </span>│<span style=\"color: #af00d7; text-decoration-color: #af00d7\">          0          </span>│\n",
       "│<span style=\"color: #0087ff; text-decoration-color: #0087ff\">                        </span>│<span style=\"color: #008000; text-decoration-color: #008000\">                  T cell                  </span>│<span style=\"color: #af00d7; text-decoration-color: #af00d7\">          1          </span>│\n",
       "│<span style=\"color: #0087ff; text-decoration-color: #0087ff\">                        </span>│<span style=\"color: #008000; text-decoration-color: #008000\">                mast cell                 </span>│<span style=\"color: #af00d7; text-decoration-color: #af00d7\">          2          </span>│\n",
       "│<span style=\"color: #0087ff; text-decoration-color: #0087ff\">                        </span>│<span style=\"color: #008000; text-decoration-color: #008000\">             endothelial cell             </span>│<span style=\"color: #af00d7; text-decoration-color: #af00d7\">          3          </span>│\n",
       "│<span style=\"color: #0087ff; text-decoration-color: #0087ff\">                        </span>│<span style=\"color: #008000; text-decoration-color: #008000\">                  B cell                  </span>│<span style=\"color: #af00d7; text-decoration-color: #af00d7\">          4          </span>│\n",
       "│<span style=\"color: #0087ff; text-decoration-color: #0087ff\">                        </span>│<span style=\"color: #008000; text-decoration-color: #008000\">              dendritic cell              </span>│<span style=\"color: #af00d7; text-decoration-color: #af00d7\">          5          </span>│\n",
       "│<span style=\"color: #0087ff; text-decoration-color: #0087ff\">                        </span>│<span style=\"color: #008000; text-decoration-color: #008000\">               plasma cell                </span>│<span style=\"color: #af00d7; text-decoration-color: #af00d7\">          6          </span>│\n",
       "│<span style=\"color: #0087ff; text-decoration-color: #0087ff\">                        </span>│<span style=\"color: #008000; text-decoration-color: #008000\"> fallopian tube secretory epithelial cell </span>│<span style=\"color: #af00d7; text-decoration-color: #af00d7\">          7          </span>│\n",
       "│<span style=\"color: #0087ff; text-decoration-color: #0087ff\">                        </span>│<span style=\"color: #008000; text-decoration-color: #008000\">                 monocyte                 </span>│<span style=\"color: #af00d7; text-decoration-color: #af00d7\">          8          </span>│\n",
       "└────────────────────────┴──────────────────────────────────────────┴─────────────────────┘\n",
       "</pre>\n"
      ],
      "text/plain": [
       "\u001b[3m                                   labels State Registry                                   \u001b[0m\n",
       "┏━━━━━━━━━━━━━━━━━━━━━━━━┳━━━━━━━━━━━━━━━━━━━━━━━━━━━━━━━━━━━━━━━━━━┳━━━━━━━━━━━━━━━━━━━━━┓\n",
       "┃\u001b[1m \u001b[0m\u001b[1m   Source Location    \u001b[0m\u001b[1m \u001b[0m┃\u001b[1m \u001b[0m\u001b[1m               Categories               \u001b[0m\u001b[1m \u001b[0m┃\u001b[1m \u001b[0m\u001b[1mscvi-tools Encoding\u001b[0m\u001b[1m \u001b[0m┃\n",
       "┡━━━━━━━━━━━━━━━━━━━━━━━━╇━━━━━━━━━━━━━━━━━━━━━━━━━━━━━━━━━━━━━━━━━━╇━━━━━━━━━━━━━━━━━━━━━┩\n",
       "│\u001b[38;5;33m \u001b[0m\u001b[38;5;33madata.obs['cell_type']\u001b[0m\u001b[38;5;33m \u001b[0m│\u001b[32m \u001b[0m\u001b[32m               fibroblast               \u001b[0m\u001b[32m \u001b[0m│\u001b[38;5;128m \u001b[0m\u001b[38;5;128m         0         \u001b[0m\u001b[38;5;128m \u001b[0m│\n",
       "│\u001b[38;5;33m \u001b[0m\u001b[38;5;33m                      \u001b[0m\u001b[38;5;33m \u001b[0m│\u001b[32m \u001b[0m\u001b[32m                 T cell                 \u001b[0m\u001b[32m \u001b[0m│\u001b[38;5;128m \u001b[0m\u001b[38;5;128m         1         \u001b[0m\u001b[38;5;128m \u001b[0m│\n",
       "│\u001b[38;5;33m \u001b[0m\u001b[38;5;33m                      \u001b[0m\u001b[38;5;33m \u001b[0m│\u001b[32m \u001b[0m\u001b[32m               mast cell                \u001b[0m\u001b[32m \u001b[0m│\u001b[38;5;128m \u001b[0m\u001b[38;5;128m         2         \u001b[0m\u001b[38;5;128m \u001b[0m│\n",
       "│\u001b[38;5;33m \u001b[0m\u001b[38;5;33m                      \u001b[0m\u001b[38;5;33m \u001b[0m│\u001b[32m \u001b[0m\u001b[32m            endothelial cell            \u001b[0m\u001b[32m \u001b[0m│\u001b[38;5;128m \u001b[0m\u001b[38;5;128m         3         \u001b[0m\u001b[38;5;128m \u001b[0m│\n",
       "│\u001b[38;5;33m \u001b[0m\u001b[38;5;33m                      \u001b[0m\u001b[38;5;33m \u001b[0m│\u001b[32m \u001b[0m\u001b[32m                 B cell                 \u001b[0m\u001b[32m \u001b[0m│\u001b[38;5;128m \u001b[0m\u001b[38;5;128m         4         \u001b[0m\u001b[38;5;128m \u001b[0m│\n",
       "│\u001b[38;5;33m \u001b[0m\u001b[38;5;33m                      \u001b[0m\u001b[38;5;33m \u001b[0m│\u001b[32m \u001b[0m\u001b[32m             dendritic cell             \u001b[0m\u001b[32m \u001b[0m│\u001b[38;5;128m \u001b[0m\u001b[38;5;128m         5         \u001b[0m\u001b[38;5;128m \u001b[0m│\n",
       "│\u001b[38;5;33m \u001b[0m\u001b[38;5;33m                      \u001b[0m\u001b[38;5;33m \u001b[0m│\u001b[32m \u001b[0m\u001b[32m              plasma cell               \u001b[0m\u001b[32m \u001b[0m│\u001b[38;5;128m \u001b[0m\u001b[38;5;128m         6         \u001b[0m\u001b[38;5;128m \u001b[0m│\n",
       "│\u001b[38;5;33m \u001b[0m\u001b[38;5;33m                      \u001b[0m\u001b[38;5;33m \u001b[0m│\u001b[32m \u001b[0m\u001b[32mfallopian tube secretory epithelial cell\u001b[0m\u001b[32m \u001b[0m│\u001b[38;5;128m \u001b[0m\u001b[38;5;128m         7         \u001b[0m\u001b[38;5;128m \u001b[0m│\n",
       "│\u001b[38;5;33m \u001b[0m\u001b[38;5;33m                      \u001b[0m\u001b[38;5;33m \u001b[0m│\u001b[32m \u001b[0m\u001b[32m                monocyte                \u001b[0m\u001b[32m \u001b[0m│\u001b[38;5;128m \u001b[0m\u001b[38;5;128m         8         \u001b[0m\u001b[38;5;128m \u001b[0m│\n",
       "└────────────────────────┴──────────────────────────────────────────┴─────────────────────┘\n"
      ]
     },
     "metadata": {},
     "output_type": "display_data"
    }
   ],
   "source": [
    "sc_model = CondSCVI(sc_adata, weight_obs=False)\n",
    "sc_model.view_anndata_setup()"
   ]
  },
  {
   "cell_type": "code",
   "execution_count": 21,
   "metadata": {},
   "outputs": [
    {
     "name": "stderr",
     "output_type": "stream",
     "text": [
      "GPU available: False, used: False\n",
      "TPU available: False, using: 0 TPU cores\n",
      "IPU available: False, using: 0 IPUs\n",
      "HPU available: False, using: 0 HPUs\n"
     ]
    },
    {
     "name": "stdout",
     "output_type": "stream",
     "text": [
      "Epoch 72/300:  24%|██▎       | 71/300 [04:17<13:46,  3.61s/it, v_num=1, train_loss_step=1.13e-5, train_loss_epoch=8.28e-6]  "
     ]
    },
    {
     "name": "stderr",
     "output_type": "stream",
     "text": [
      "c:\\Users\\pedro\\mambaforge\\envs\\mambenv\\lib\\site-packages\\lightning\\pytorch\\trainer\\call.py:53: UserWarning: Detected KeyboardInterrupt, attempting graceful shutdown...\n",
      "  rank_zero_warn(\"Detected KeyboardInterrupt, attempting graceful shutdown...\")\n"
     ]
    }
   ],
   "source": [
    "sc_model.train()"
   ]
  },
  {
   "cell_type": "code",
   "execution_count": 16,
   "metadata": {},
   "outputs": [
    {
     "data": {
      "image/png": "[encoded data removed]",
      "text/plain": [
       "<Figure size 320x320 with 1 Axes>"
      ]
     },
     "metadata": {
      "image/png": {
       "height": 300,
       "width": 314
      }
     },
     "output_type": "display_data"
    }
   ],
   "source": [
    "sc_model.history[\"elbo_train\"].iloc[5:].plot()\n",
    "plt.show()"
   ]
  },
  {
   "cell_type": "code",
   "execution_count": 26,
   "metadata": {},
   "outputs": [],
   "source": [
    "DestVI.setup_anndata(st_adata, layer=\"counts\")"
   ]
  },
  {
   "cell_type": "code",
   "execution_count": 27,
   "metadata": {},
   "outputs": [
    {
     "name": "stderr",
     "output_type": "stream",
     "text": [
      "c:\\Users\\pedro\\mambaforge\\envs\\mambenv\\lib\\site-packages\\sklearn\\base.py:1151: ConvergenceWarning: Number of distinct clusters (2) found smaller than n_clusters (15). Possibly due to duplicate points in X.\n",
      "  return fit_method(estimator, *args, **kwargs)\n",
      "c:\\Users\\pedro\\mambaforge\\envs\\mambenv\\lib\\site-packages\\sklearn\\base.py:1151: ConvergenceWarning: Number of distinct clusters (2) found smaller than n_clusters (15). Possibly due to duplicate points in X.\n",
      "  return fit_method(estimator, *args, **kwargs)\n",
      "c:\\Users\\pedro\\mambaforge\\envs\\mambenv\\lib\\site-packages\\sklearn\\base.py:1151: ConvergenceWarning: Number of distinct clusters (2) found smaller than n_clusters (15). Possibly due to duplicate points in X.\n",
      "  return fit_method(estimator, *args, **kwargs)\n",
      "c:\\Users\\pedro\\mambaforge\\envs\\mambenv\\lib\\site-packages\\sklearn\\base.py:1151: ConvergenceWarning: Number of distinct clusters (3) found smaller than n_clusters (15). Possibly due to duplicate points in X.\n",
      "  return fit_method(estimator, *args, **kwargs)\n",
      "c:\\Users\\pedro\\mambaforge\\envs\\mambenv\\lib\\site-packages\\sklearn\\base.py:1151: ConvergenceWarning: Number of distinct clusters (2) found smaller than n_clusters (15). Possibly due to duplicate points in X.\n",
      "  return fit_method(estimator, *args, **kwargs)\n",
      "c:\\Users\\pedro\\mambaforge\\envs\\mambenv\\lib\\site-packages\\sklearn\\base.py:1151: ConvergenceWarning: Number of distinct clusters (2) found smaller than n_clusters (15). Possibly due to duplicate points in X.\n",
      "  return fit_method(estimator, *args, **kwargs)\n",
      "c:\\Users\\pedro\\mambaforge\\envs\\mambenv\\lib\\site-packages\\sklearn\\base.py:1151: ConvergenceWarning: Number of distinct clusters (3) found smaller than n_clusters (15). Possibly due to duplicate points in X.\n",
      "  return fit_method(estimator, *args, **kwargs)\n",
      "c:\\Users\\pedro\\mambaforge\\envs\\mambenv\\lib\\site-packages\\sklearn\\base.py:1151: ConvergenceWarning: Number of distinct clusters (2) found smaller than n_clusters (15). Possibly due to duplicate points in X.\n",
      "  return fit_method(estimator, *args, **kwargs)\n",
      "c:\\Users\\pedro\\mambaforge\\envs\\mambenv\\lib\\site-packages\\sklearn\\base.py:1151: ConvergenceWarning: Number of distinct clusters (2) found smaller than n_clusters (15). Possibly due to duplicate points in X.\n",
      "  return fit_method(estimator, *args, **kwargs)\n",
      "c:\\Users\\pedro\\mambaforge\\envs\\mambenv\\lib\\site-packages\\torch\\nn\\init.py:405: UserWarning: Initializing zero-element tensors is a no-op\n",
      "  warnings.warn(\"Initializing zero-element tensors is a no-op\")\n"
     ]
    },
    {
     "data": {
      "text/html": [
       "<pre style=\"white-space:pre;overflow-x:auto;line-height:normal;font-family:Menlo,'DejaVu Sans Mono',consolas,'Courier New',monospace\">Anndata setup with scvi-tools version <span style=\"color: #008080; text-decoration-color: #008080; font-weight: bold\">1.0</span>.<span style=\"color: #008080; text-decoration-color: #008080; font-weight: bold\">3</span>.\n",
       "</pre>\n"
      ],
      "text/plain": [
       "Anndata setup with scvi-tools version \u001b[1;36m1.0\u001b[0m.\u001b[1;36m3\u001b[0m.\n"
      ]
     },
     "metadata": {},
     "output_type": "display_data"
    },
    {
     "data": {
      "text/html": [
       "<pre style=\"white-space:pre;overflow-x:auto;line-height:normal;font-family:Menlo,'DejaVu Sans Mono',consolas,'Courier New',monospace\">\n",
       "</pre>\n"
      ],
      "text/plain": [
       "\n"
      ]
     },
     "metadata": {},
     "output_type": "display_data"
    },
    {
     "data": {
      "text/html": [
       "<pre style=\"white-space:pre;overflow-x:auto;line-height:normal;font-family:Menlo,'DejaVu Sans Mono',consolas,'Courier New',monospace\">Setup via `DestVI.setup_anndata` with arguments:\n",
       "</pre>\n"
      ],
      "text/plain": [
       "Setup via `DestVI.setup_anndata` with arguments:\n"
      ]
     },
     "metadata": {},
     "output_type": "display_data"
    },
    {
     "data": {
      "text/html": [
       "<pre style=\"white-space:pre;overflow-x:auto;line-height:normal;font-family:Menlo,'DejaVu Sans Mono',consolas,'Courier New',monospace\"><span style=\"font-weight: bold\">{</span><span style=\"color: #008000; text-decoration-color: #008000\">'layer'</span>: <span style=\"color: #008000; text-decoration-color: #008000\">'counts'</span><span style=\"font-weight: bold\">}</span>\n",
       "</pre>\n"
      ],
      "text/plain": [
       "\u001b[1m{\u001b[0m\u001b[32m'layer'\u001b[0m: \u001b[32m'counts'\u001b[0m\u001b[1m}\u001b[0m\n"
      ]
     },
     "metadata": {},
     "output_type": "display_data"
    },
    {
     "data": {
      "text/html": [
       "<pre style=\"white-space:pre;overflow-x:auto;line-height:normal;font-family:Menlo,'DejaVu Sans Mono',consolas,'Courier New',monospace\">\n",
       "</pre>\n"
      ],
      "text/plain": [
       "\n"
      ]
     },
     "metadata": {},
     "output_type": "display_data"
    },
    {
     "data": {
      "text/html": [
       "<pre style=\"white-space:pre;overflow-x:auto;line-height:normal;font-family:Menlo,'DejaVu Sans Mono',consolas,'Courier New',monospace\"><span style=\"font-style: italic\">     Summary Statistics     </span>\n",
       "┏━━━━━━━━━━━━━━━━━━┳━━━━━━━┓\n",
       "┃<span style=\"font-weight: bold\"> Summary Stat Key </span>┃<span style=\"font-weight: bold\"> Value </span>┃\n",
       "┡━━━━━━━━━━━━━━━━━━╇━━━━━━━┩\n",
       "│<span style=\"color: #0087ff; text-decoration-color: #0087ff\">     n_cells      </span>│<span style=\"color: #af00d7; text-decoration-color: #af00d7\"> 3493  </span>│\n",
       "│<span style=\"color: #0087ff; text-decoration-color: #0087ff\">      n_vars      </span>│<span style=\"color: #af00d7; text-decoration-color: #af00d7\">   0   </span>│\n",
       "└──────────────────┴───────┘\n",
       "</pre>\n"
      ],
      "text/plain": [
       "\u001b[3m     Summary Statistics     \u001b[0m\n",
       "┏━━━━━━━━━━━━━━━━━━┳━━━━━━━┓\n",
       "┃\u001b[1m \u001b[0m\u001b[1mSummary Stat Key\u001b[0m\u001b[1m \u001b[0m┃\u001b[1m \u001b[0m\u001b[1mValue\u001b[0m\u001b[1m \u001b[0m┃\n",
       "┡━━━━━━━━━━━━━━━━━━╇━━━━━━━┩\n",
       "│\u001b[38;5;33m \u001b[0m\u001b[38;5;33m    n_cells     \u001b[0m\u001b[38;5;33m \u001b[0m│\u001b[38;5;128m \u001b[0m\u001b[38;5;128m3493 \u001b[0m\u001b[38;5;128m \u001b[0m│\n",
       "│\u001b[38;5;33m \u001b[0m\u001b[38;5;33m     n_vars     \u001b[0m\u001b[38;5;33m \u001b[0m│\u001b[38;5;128m \u001b[0m\u001b[38;5;128m  0  \u001b[0m\u001b[38;5;128m \u001b[0m│\n",
       "└──────────────────┴───────┘\n"
      ]
     },
     "metadata": {},
     "output_type": "display_data"
    },
    {
     "data": {
      "text/html": [
       "<pre style=\"white-space:pre;overflow-x:auto;line-height:normal;font-family:Menlo,'DejaVu Sans Mono',consolas,'Courier New',monospace\"><span style=\"font-style: italic\">              Data Registry              </span>\n",
       "┏━━━━━━━━━━━━━━┳━━━━━━━━━━━━━━━━━━━━━━━━┓\n",
       "┃<span style=\"font-weight: bold\"> Registry Key </span>┃<span style=\"font-weight: bold\">  scvi-tools Location   </span>┃\n",
       "┡━━━━━━━━━━━━━━╇━━━━━━━━━━━━━━━━━━━━━━━━┩\n",
       "│<span style=\"color: #0087ff; text-decoration-color: #0087ff\">      X       </span>│<span style=\"color: #af00d7; text-decoration-color: #af00d7\"> adata.layers['counts'] </span>│\n",
       "│<span style=\"color: #0087ff; text-decoration-color: #0087ff\">    ind_x     </span>│<span style=\"color: #af00d7; text-decoration-color: #af00d7\"> adata.obs['_indices']  </span>│\n",
       "└──────────────┴────────────────────────┘\n",
       "</pre>\n"
      ],
      "text/plain": [
       "\u001b[3m              Data Registry              \u001b[0m\n",
       "┏━━━━━━━━━━━━━━┳━━━━━━━━━━━━━━━━━━━━━━━━┓\n",
       "┃\u001b[1m \u001b[0m\u001b[1mRegistry Key\u001b[0m\u001b[1m \u001b[0m┃\u001b[1m \u001b[0m\u001b[1m scvi-tools Location  \u001b[0m\u001b[1m \u001b[0m┃\n",
       "┡━━━━━━━━━━━━━━╇━━━━━━━━━━━━━━━━━━━━━━━━┩\n",
       "│\u001b[38;5;33m \u001b[0m\u001b[38;5;33m     X      \u001b[0m\u001b[38;5;33m \u001b[0m│\u001b[38;5;128m \u001b[0m\u001b[38;5;128madata.layers['counts']\u001b[0m\u001b[38;5;128m \u001b[0m│\n",
       "│\u001b[38;5;33m \u001b[0m\u001b[38;5;33m   ind_x    \u001b[0m\u001b[38;5;33m \u001b[0m│\u001b[38;5;128m \u001b[0m\u001b[38;5;128madata.obs['_indices'] \u001b[0m\u001b[38;5;128m \u001b[0m│\n",
       "└──────────────┴────────────────────────┘\n"
      ]
     },
     "metadata": {},
     "output_type": "display_data"
    }
   ],
   "source": [
    "st_model = DestVI.from_rna_model(st_adata, sc_model)\n",
    "st_model.view_anndata_setup()"
   ]
  },
  {
   "cell_type": "code",
   "execution_count": 31,
   "metadata": {},
   "outputs": [
    {
     "name": "stderr",
     "output_type": "stream",
     "text": [
      "GPU available: False, used: False\n",
      "TPU available: False, using: 0 TPU cores\n",
      "IPU available: False, using: 0 IPUs\n",
      "HPU available: False, using: 0 HPUs\n"
     ]
    },
    {
     "name": "stdout",
     "output_type": "stream",
     "text": [
      "Epoch 500/500: 100%|██████████| 500/500 [01:56<00:00,  4.28it/s, v_num=1, train_loss_step=nan, train_loss_epoch=nan]"
     ]
    },
    {
     "name": "stderr",
     "output_type": "stream",
     "text": [
      "`Trainer.fit` stopped: `max_epochs=500` reached.\n"
     ]
    },
    {
     "name": "stdout",
     "output_type": "stream",
     "text": [
      "Epoch 500/500: 100%|██████████| 500/500 [01:56<00:00,  4.30it/s, v_num=1, train_loss_step=nan, train_loss_epoch=nan]\n"
     ]
    }
   ],
   "source": [
    "st_model.train(max_epochs=500) # número diminuído devido a demora em carregar"
   ]
  },
  {
   "cell_type": "code",
   "execution_count": 32,
   "metadata": {},
   "outputs": [
    {
     "data": {
      "image/png": "[encoded data removed]",
      "text/plain": [
       "<Figure size 320x320 with 1 Axes>"
      ]
     },
     "metadata": {
      "image/png": {
       "height": 300,
       "width": 320
      }
     },
     "output_type": "display_data"
    }
   ],
   "source": [
    "st_model.history[\"elbo_train\"].iloc[10:].plot()\n",
    "plt.show()"
   ]
  },
  {
   "cell_type": "code",
   "execution_count": 33,
   "metadata": {},
   "outputs": [],
   "source": [
    "st_adata.obsm[\"proportions\"] = st_model.get_proportions()"
   ]
  },
  {
   "cell_type": "code",
   "execution_count": 34,
   "metadata": {},
   "outputs": [
    {
     "data": {
      "text/html": [
       "<div>\n",
       "<style scoped>\n",
       "    .dataframe tbody tr th:only-of-type {\n",
       "        vertical-align: middle;\n",
       "    }\n",
       "\n",
       "    .dataframe tbody tr th {\n",
       "        vertical-align: top;\n",
       "    }\n",
       "\n",
       "    .dataframe thead th {\n",
       "        text-align: right;\n",
       "    }\n",
       "</style>\n",
       "<table border=\"1\" class=\"dataframe\">\n",
       "  <thead>\n",
       "    <tr style=\"text-align: right;\">\n",
       "      <th></th>\n",
       "      <th>B.cell</th>\n",
       "      <th>Dendritic.cell</th>\n",
       "      <th>Endothelial.cell</th>\n",
       "      <th>Fibroblast</th>\n",
       "      <th>Mast.cell</th>\n",
       "      <th>Monocyte</th>\n",
       "      <th>Ovarian.cancer.cell</th>\n",
       "      <th>Plasma.cell</th>\n",
       "      <th>T.cell</th>\n",
       "    </tr>\n",
       "  </thead>\n",
       "  <tbody>\n",
       "    <tr>\n",
       "      <th>AAACAAGTATCTCCCA-1</th>\n",
       "      <td>0.131003</td>\n",
       "      <td>0.186113</td>\n",
       "      <td>0.125788</td>\n",
       "      <td>0.078337</td>\n",
       "      <td>0.132146</td>\n",
       "      <td>0.094454</td>\n",
       "      <td>0.11539</td>\n",
       "      <td>0.06194</td>\n",
       "      <td>0.07483</td>\n",
       "    </tr>\n",
       "    <tr>\n",
       "      <th>AAACACCAATAACTGC-1</th>\n",
       "      <td>0.131003</td>\n",
       "      <td>0.186113</td>\n",
       "      <td>0.125788</td>\n",
       "      <td>0.078337</td>\n",
       "      <td>0.132146</td>\n",
       "      <td>0.094454</td>\n",
       "      <td>0.11539</td>\n",
       "      <td>0.06194</td>\n",
       "      <td>0.07483</td>\n",
       "    </tr>\n",
       "    <tr>\n",
       "      <th>AAACAGGGTCTATATT-1</th>\n",
       "      <td>0.131003</td>\n",
       "      <td>0.186113</td>\n",
       "      <td>0.125788</td>\n",
       "      <td>0.078337</td>\n",
       "      <td>0.132146</td>\n",
       "      <td>0.094454</td>\n",
       "      <td>0.11539</td>\n",
       "      <td>0.06194</td>\n",
       "      <td>0.07483</td>\n",
       "    </tr>\n",
       "    <tr>\n",
       "      <th>AAACATTTCCCGGATT-1</th>\n",
       "      <td>0.131003</td>\n",
       "      <td>0.186113</td>\n",
       "      <td>0.125788</td>\n",
       "      <td>0.078337</td>\n",
       "      <td>0.132146</td>\n",
       "      <td>0.094454</td>\n",
       "      <td>0.11539</td>\n",
       "      <td>0.06194</td>\n",
       "      <td>0.07483</td>\n",
       "    </tr>\n",
       "    <tr>\n",
       "      <th>AAACCCGAACGAAATC-1</th>\n",
       "      <td>0.131003</td>\n",
       "      <td>0.186113</td>\n",
       "      <td>0.125788</td>\n",
       "      <td>0.078337</td>\n",
       "      <td>0.132146</td>\n",
       "      <td>0.094454</td>\n",
       "      <td>0.11539</td>\n",
       "      <td>0.06194</td>\n",
       "      <td>0.07483</td>\n",
       "    </tr>\n",
       "  </tbody>\n",
       "</table>\n",
       "</div>"
      ],
      "text/plain": [
       "                      B.cell  Dendritic.cell  Endothelial.cell  Fibroblast  \\\n",
       "AAACAAGTATCTCCCA-1  0.131003        0.186113          0.125788    0.078337   \n",
       "AAACACCAATAACTGC-1  0.131003        0.186113          0.125788    0.078337   \n",
       "AAACAGGGTCTATATT-1  0.131003        0.186113          0.125788    0.078337   \n",
       "AAACATTTCCCGGATT-1  0.131003        0.186113          0.125788    0.078337   \n",
       "AAACCCGAACGAAATC-1  0.131003        0.186113          0.125788    0.078337   \n",
       "\n",
       "                    Mast.cell  Monocyte  Ovarian.cancer.cell  Plasma.cell  \\\n",
       "AAACAAGTATCTCCCA-1   0.132146  0.094454              0.11539      0.06194   \n",
       "AAACACCAATAACTGC-1   0.132146  0.094454              0.11539      0.06194   \n",
       "AAACAGGGTCTATATT-1   0.132146  0.094454              0.11539      0.06194   \n",
       "AAACATTTCCCGGATT-1   0.132146  0.094454              0.11539      0.06194   \n",
       "AAACCCGAACGAAATC-1   0.132146  0.094454              0.11539      0.06194   \n",
       "\n",
       "                     T.cell  \n",
       "AAACAAGTATCTCCCA-1  0.07483  \n",
       "AAACACCAATAACTGC-1  0.07483  \n",
       "AAACAGGGTCTATATT-1  0.07483  \n",
       "AAACATTTCCCGGATT-1  0.07483  \n",
       "AAACCCGAACGAAATC-1  0.07483  "
      ]
     },
     "execution_count": 34,
     "metadata": {},
     "output_type": "execute_result"
    }
   ],
   "source": [
    "st_adata.obsm[\"proportions\"].head(5)"
   ]
  },
  {
   "cell_type": "code",
   "execution_count": 35,
   "metadata": {},
   "outputs": [],
   "source": [
    "ct_list = [\"B.cell\", \"Endothelial.cell\", \"Monocyte\"]\n",
    "for ct in ct_list:\n",
    "    data = st_adata.obsm[\"proportions\"][ct].values\n",
    "    st_adata.obs[ct] = np.clip(data, 0, np.quantile(data, 0.99))"
   ]
  },
  {
   "cell_type": "code",
   "execution_count": 36,
   "metadata": {},
   "outputs": [
    {
     "data": {
      "image/png": "[encoded data removed]",
      "text/plain": [
       "<Figure size 1159.2x320 with 6 Axes>"
      ]
     },
     "metadata": {
      "image/png": {
       "height": 280,
       "width": 972
      }
     },
     "output_type": "display_data"
    }
   ],
   "source": [
    "sc.pl.embedding(st_adata, basis=\"spatial\", color=ct_list, cmap=\"Reds\", s=80)"
   ]
  },
  {
   "cell_type": "code",
   "execution_count": null,
   "metadata": {},
   "outputs": [],
   "source": []
  },
  {
   "cell_type": "code",
   "execution_count": null,
   "metadata": {},
   "outputs": [],
   "source": []
  },
  {
   "cell_type": "code",
   "execution_count": null,
   "metadata": {},
   "outputs": [],
   "source": []
  },
  {
   "cell_type": "code",
   "execution_count": null,
   "metadata": {},
   "outputs": [],
   "source": []
  },
  {
   "cell_type": "code",
   "execution_count": null,
   "metadata": {},
   "outputs": [],
   "source": []
  },
  {
   "cell_type": "code",
   "execution_count": null,
   "metadata": {},
   "outputs": [],
   "source": []
  }
 ],
 "metadata": {
  "kernelspec": {
   "display_name": ".venv",
   "language": "python",
   "name": "python3"
  },
  "language_info": {
   "codemirror_mode": {
    "name": "ipython",
    "version": 3
   },
   "file_extension": ".py",
   "mimetype": "text/x-python",
   "name": "python",
   "nbconvert_exporter": "python",
   "pygments_lexer": "ipython3",
   "version": "3.9.17"
  },
  "orig_nbformat": 4
 },
 "nbformat": 4,
 "nbformat_minor": 2
}
