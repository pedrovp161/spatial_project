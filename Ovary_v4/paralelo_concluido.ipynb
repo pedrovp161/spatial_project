{
 "cells": [
  {
   "cell_type": "code",
   "execution_count": 744,
   "metadata": {},
   "outputs": [],
   "source": [
    "import scanpy as sc\n",
    "import pandas as pd\n",
    "import os"
   ]
  },
  {
   "cell_type": "code",
   "execution_count": 745,
   "metadata": {},
   "outputs": [
    {
     "name": "stdout",
     "output_type": "stream",
     "text": [
      "None\n"
     ]
    }
   ],
   "source": [
    "print(os.chdir(\"C:\\\\Users\\\\pedro\\\\OneDrive\\\\Área de Trabalho\\\\projeto_INCA\\\\spatial_ovary\\\\Ovary_v2\\\\data\"))"
   ]
  },
  {
   "cell_type": "code",
   "execution_count": 746,
   "metadata": {},
   "outputs": [
    {
     "name": "stdout",
     "output_type": "stream",
     "text": [
      "C:\\Users\\pedro\\OneDrive\\Área de Trabalho\\projeto_INCA\\spatial_ovary\\Ovary_v2\\data\n"
     ]
    }
   ],
   "source": [
    "print(os.getcwd())"
   ]
  },
  {
   "cell_type": "code",
   "execution_count": 747,
   "metadata": {},
   "outputs": [],
   "source": [
    "MATRIX = f\"{os.getcwd()}\\\\GEO12\\\\raw_feature_bc_matrix\\\\\\matrix.mtx.gz\"\n",
    "FEATURES = f\"{os.getcwd()}\\\\GEO12\\\\raw_feature_bc_matrix\\\\features.tsv.gz\"\n",
    "BARCODES = f\"{os.getcwd()}\\\\GEO12\\\\raw_feature_bc_matrix\\\\barcodes.tsv.gz\"\n",
    "POS = f\"{os.getcwd()}\\\\GEO12\\\\spatial\\\\tissue_positions_list.csv\""
   ]
  },
  {
   "cell_type": "code",
   "execution_count": 748,
   "metadata": {},
   "outputs": [
    {
     "name": "stderr",
     "output_type": "stream",
     "text": [
      "c:\\Users\\pedro\\OneDrive\\Área de Trabalho\\projeto_INCA\\spatial_ovary\\.venv\\Lib\\site-packages\\anndata\\_core\\anndata.py:1840: UserWarning: Variable names are not unique. To make them unique, call `.var_names_make_unique`.\n",
      "  utils.warn_names_duplicates(\"var\")\n",
      "c:\\Users\\pedro\\OneDrive\\Área de Trabalho\\projeto_INCA\\spatial_ovary\\.venv\\Lib\\site-packages\\anndata\\_core\\anndata.py:1113: FutureWarning: is_categorical_dtype is deprecated and will be removed in a future version. Use isinstance(dtype, CategoricalDtype) instead\n",
      "  if not is_categorical_dtype(df_full[k]):\n",
      "c:\\Users\\pedro\\OneDrive\\Área de Trabalho\\projeto_INCA\\spatial_ovary\\.venv\\Lib\\site-packages\\anndata\\_core\\anndata.py:1840: UserWarning: Variable names are not unique. To make them unique, call `.var_names_make_unique`.\n",
      "  utils.warn_names_duplicates(\"var\")\n"
     ]
    }
   ],
   "source": [
    "modelo = sc.read_visium(\"C:\\\\Users\\\\pedro\\\\OneDrive\\\\Área de Trabalho\\\\projeto_INCA\\\\spatial_ovary\\\\Ovary_v4\\\\data\\\\10x2\")\n",
    "adata = sc.read(MATRIX, delimiter='\\t')"
   ]
  },
  {
   "cell_type": "code",
   "execution_count": 749,
   "metadata": {},
   "outputs": [],
   "source": [
    "genes = pd.read_csv(FEATURES, delimiter=\"\\t\", header=None, index_col=0)\n",
    "genes.index.name = None"
   ]
  },
  {
   "cell_type": "code",
   "execution_count": 750,
   "metadata": {},
   "outputs": [],
   "source": [
    "genes = genes.rename(columns={1:'gene_ids', 2:'feature_types'})"
   ]
  },
  {
   "cell_type": "code",
   "execution_count": 751,
   "metadata": {},
   "outputs": [],
   "source": [
    "barcodes = pd.read_csv(BARCODES, header=None, delimiter=\"\\t\")"
   ]
  },
  {
   "cell_type": "code",
   "execution_count": 752,
   "metadata": {},
   "outputs": [
    {
     "data": {
      "text/plain": [
       "176"
      ]
     },
     "execution_count": 752,
     "metadata": {},
     "output_type": "execute_result"
    }
   ],
   "source": [
    "barcodes.size"
   ]
  },
  {
   "cell_type": "code",
   "execution_count": 753,
   "metadata": {},
   "outputs": [
    {
     "data": {
      "text/html": [
       "<div>\n",
       "<style scoped>\n",
       "    .dataframe tbody tr th:only-of-type {\n",
       "        vertical-align: middle;\n",
       "    }\n",
       "\n",
       "    .dataframe tbody tr th {\n",
       "        vertical-align: top;\n",
       "    }\n",
       "\n",
       "    .dataframe thead th {\n",
       "        text-align: right;\n",
       "    }\n",
       "</style>\n",
       "<table border=\"1\" class=\"dataframe\">\n",
       "  <thead>\n",
       "    <tr style=\"text-align: right;\">\n",
       "      <th></th>\n",
       "      <th>gene_ids</th>\n",
       "      <th>feature_types</th>\n",
       "    </tr>\n",
       "  </thead>\n",
       "  <tbody>\n",
       "    <tr>\n",
       "      <th>ENSG00000243485</th>\n",
       "      <td>MIR1302-2HG</td>\n",
       "      <td>Gene Expression</td>\n",
       "    </tr>\n",
       "    <tr>\n",
       "      <th>ENSG00000237613</th>\n",
       "      <td>FAM138A</td>\n",
       "      <td>Gene Expression</td>\n",
       "    </tr>\n",
       "    <tr>\n",
       "      <th>ENSG00000186092</th>\n",
       "      <td>OR4F5</td>\n",
       "      <td>Gene Expression</td>\n",
       "    </tr>\n",
       "    <tr>\n",
       "      <th>ENSG00000238009</th>\n",
       "      <td>AL627309.1</td>\n",
       "      <td>Gene Expression</td>\n",
       "    </tr>\n",
       "    <tr>\n",
       "      <th>ENSG00000239945</th>\n",
       "      <td>AL627309.3</td>\n",
       "      <td>Gene Expression</td>\n",
       "    </tr>\n",
       "  </tbody>\n",
       "</table>\n",
       "</div>"
      ],
      "text/plain": [
       "                    gene_ids    feature_types\n",
       "ENSG00000243485  MIR1302-2HG  Gene Expression\n",
       "ENSG00000237613      FAM138A  Gene Expression\n",
       "ENSG00000186092        OR4F5  Gene Expression\n",
       "ENSG00000238009   AL627309.1  Gene Expression\n",
       "ENSG00000239945   AL627309.3  Gene Expression"
      ]
     },
     "execution_count": 753,
     "metadata": {},
     "output_type": "execute_result"
    }
   ],
   "source": [
    "genes.head(5)"
   ]
  },
  {
   "cell_type": "code",
   "execution_count": 754,
   "metadata": {},
   "outputs": [
    {
     "data": {
      "text/plain": [
       "73202"
      ]
     },
     "execution_count": 754,
     "metadata": {},
     "output_type": "execute_result"
    }
   ],
   "source": [
    "genes.size"
   ]
  },
  {
   "cell_type": "code",
   "execution_count": 755,
   "metadata": {},
   "outputs": [
    {
     "data": {
      "text/html": [
       "<div>\n",
       "<style scoped>\n",
       "    .dataframe tbody tr th:only-of-type {\n",
       "        vertical-align: middle;\n",
       "    }\n",
       "\n",
       "    .dataframe tbody tr th {\n",
       "        vertical-align: top;\n",
       "    }\n",
       "\n",
       "    .dataframe thead th {\n",
       "        text-align: right;\n",
       "    }\n",
       "</style>\n",
       "<table border=\"1\" class=\"dataframe\">\n",
       "  <thead>\n",
       "    <tr style=\"text-align: right;\">\n",
       "      <th></th>\n",
       "      <th>gene_ids</th>\n",
       "      <th>feature_types</th>\n",
       "      <th>genome</th>\n",
       "    </tr>\n",
       "  </thead>\n",
       "  <tbody>\n",
       "    <tr>\n",
       "      <th>MIR1302-2HG</th>\n",
       "      <td>ENSG00000243485</td>\n",
       "      <td>Gene Expression</td>\n",
       "      <td>GRCh38</td>\n",
       "    </tr>\n",
       "    <tr>\n",
       "      <th>FAM138A</th>\n",
       "      <td>ENSG00000237613</td>\n",
       "      <td>Gene Expression</td>\n",
       "      <td>GRCh38</td>\n",
       "    </tr>\n",
       "    <tr>\n",
       "      <th>OR4F5</th>\n",
       "      <td>ENSG00000186092</td>\n",
       "      <td>Gene Expression</td>\n",
       "      <td>GRCh38</td>\n",
       "    </tr>\n",
       "    <tr>\n",
       "      <th>AL627309.1</th>\n",
       "      <td>ENSG00000238009</td>\n",
       "      <td>Gene Expression</td>\n",
       "      <td>GRCh38</td>\n",
       "    </tr>\n",
       "    <tr>\n",
       "      <th>AL627309.3</th>\n",
       "      <td>ENSG00000239945</td>\n",
       "      <td>Gene Expression</td>\n",
       "      <td>GRCh38</td>\n",
       "    </tr>\n",
       "  </tbody>\n",
       "</table>\n",
       "</div>"
      ],
      "text/plain": [
       "                    gene_ids    feature_types  genome\n",
       "MIR1302-2HG  ENSG00000243485  Gene Expression  GRCh38\n",
       "FAM138A      ENSG00000237613  Gene Expression  GRCh38\n",
       "OR4F5        ENSG00000186092  Gene Expression  GRCh38\n",
       "AL627309.1   ENSG00000238009  Gene Expression  GRCh38\n",
       "AL627309.3   ENSG00000239945  Gene Expression  GRCh38"
      ]
     },
     "execution_count": 755,
     "metadata": {},
     "output_type": "execute_result"
    }
   ],
   "source": [
    "modelo.var.head(5)"
   ]
  },
  {
   "cell_type": "code",
   "execution_count": 756,
   "metadata": {},
   "outputs": [
    {
     "data": {
      "text/html": [
       "<div>\n",
       "<style scoped>\n",
       "    .dataframe tbody tr th:only-of-type {\n",
       "        vertical-align: middle;\n",
       "    }\n",
       "\n",
       "    .dataframe tbody tr th {\n",
       "        vertical-align: top;\n",
       "    }\n",
       "\n",
       "    .dataframe thead th {\n",
       "        text-align: right;\n",
       "    }\n",
       "</style>\n",
       "<table border=\"1\" class=\"dataframe\">\n",
       "  <thead>\n",
       "    <tr style=\"text-align: right;\">\n",
       "      <th></th>\n",
       "    </tr>\n",
       "  </thead>\n",
       "  <tbody>\n",
       "    <tr>\n",
       "      <th>0</th>\n",
       "    </tr>\n",
       "    <tr>\n",
       "      <th>1</th>\n",
       "    </tr>\n",
       "    <tr>\n",
       "      <th>2</th>\n",
       "    </tr>\n",
       "    <tr>\n",
       "      <th>3</th>\n",
       "    </tr>\n",
       "    <tr>\n",
       "      <th>4</th>\n",
       "    </tr>\n",
       "  </tbody>\n",
       "</table>\n",
       "</div>"
      ],
      "text/plain": [
       "Empty DataFrame\n",
       "Columns: []\n",
       "Index: [0, 1, 2, 3, 4]"
      ]
     },
     "execution_count": 756,
     "metadata": {},
     "output_type": "execute_result"
    }
   ],
   "source": [
    "adata.var.head(5)"
   ]
  },
  {
   "cell_type": "code",
   "execution_count": 757,
   "metadata": {},
   "outputs": [],
   "source": [
    "pos_info = pd.read_csv(\"C:\\\\Users\\\\pedro\\\\OneDrive\\\\Área de Trabalho\\\\projeto_INCA\\\\spatial_ovary\\\\Ovary_v2\\\\data\\\\GEO2\\\\spatial\\\\tissue_positions_list.csv\", header=None)"
   ]
  },
  {
   "cell_type": "code",
   "execution_count": 758,
   "metadata": {},
   "outputs": [
    {
     "data": {
      "text/html": [
       "<div>\n",
       "<style scoped>\n",
       "    .dataframe tbody tr th:only-of-type {\n",
       "        vertical-align: middle;\n",
       "    }\n",
       "\n",
       "    .dataframe tbody tr th {\n",
       "        vertical-align: top;\n",
       "    }\n",
       "\n",
       "    .dataframe thead th {\n",
       "        text-align: right;\n",
       "    }\n",
       "</style>\n",
       "<table border=\"1\" class=\"dataframe\">\n",
       "  <thead>\n",
       "    <tr style=\"text-align: right;\">\n",
       "      <th></th>\n",
       "      <th>0</th>\n",
       "      <th>1</th>\n",
       "      <th>2</th>\n",
       "      <th>3</th>\n",
       "      <th>4</th>\n",
       "      <th>5</th>\n",
       "    </tr>\n",
       "  </thead>\n",
       "  <tbody>\n",
       "    <tr>\n",
       "      <th>0</th>\n",
       "      <td>ACGCCTGACACGCGCT-1</td>\n",
       "      <td>0</td>\n",
       "      <td>0</td>\n",
       "      <td>0</td>\n",
       "      <td>1013</td>\n",
       "      <td>1407</td>\n",
       "    </tr>\n",
       "    <tr>\n",
       "      <th>1</th>\n",
       "      <td>TACCGATCCAACACTT-1</td>\n",
       "      <td>0</td>\n",
       "      <td>1</td>\n",
       "      <td>1</td>\n",
       "      <td>1111</td>\n",
       "      <td>1456</td>\n",
       "    </tr>\n",
       "    <tr>\n",
       "      <th>2</th>\n",
       "      <td>ATTAAAGCGGACGAGC-1</td>\n",
       "      <td>0</td>\n",
       "      <td>0</td>\n",
       "      <td>2</td>\n",
       "      <td>1019</td>\n",
       "      <td>1516</td>\n",
       "    </tr>\n",
       "    <tr>\n",
       "      <th>3</th>\n",
       "      <td>GATAAGGGACGATTAG-1</td>\n",
       "      <td>0</td>\n",
       "      <td>1</td>\n",
       "      <td>3</td>\n",
       "      <td>1117</td>\n",
       "      <td>1566</td>\n",
       "    </tr>\n",
       "    <tr>\n",
       "      <th>4</th>\n",
       "      <td>GTGCAAATCACCAATA-1</td>\n",
       "      <td>0</td>\n",
       "      <td>0</td>\n",
       "      <td>4</td>\n",
       "      <td>1025</td>\n",
       "      <td>1626</td>\n",
       "    </tr>\n",
       "  </tbody>\n",
       "</table>\n",
       "</div>"
      ],
      "text/plain": [
       "                    0  1  2  3     4     5\n",
       "0  ACGCCTGACACGCGCT-1  0  0  0  1013  1407\n",
       "1  TACCGATCCAACACTT-1  0  1  1  1111  1456\n",
       "2  ATTAAAGCGGACGAGC-1  0  0  2  1019  1516\n",
       "3  GATAAGGGACGATTAG-1  0  1  3  1117  1566\n",
       "4  GTGCAAATCACCAATA-1  0  0  4  1025  1626"
      ]
     },
     "execution_count": 758,
     "metadata": {},
     "output_type": "execute_result"
    }
   ],
   "source": [
    "pos_info.head()"
   ]
  },
  {
   "cell_type": "code",
   "execution_count": 759,
   "metadata": {},
   "outputs": [
    {
     "data": {
      "text/plain": [
       "AnnData object with n_obs × n_vars = 3493 × 36601\n",
       "    obs: 'in_tissue', 'array_row', 'array_col'\n",
       "    var: 'gene_ids', 'feature_types', 'genome'\n",
       "    uns: 'spatial'\n",
       "    obsm: 'spatial'"
      ]
     },
     "execution_count": 759,
     "metadata": {},
     "output_type": "execute_result"
    }
   ],
   "source": [
    "modelo"
   ]
  },
  {
   "cell_type": "code",
   "execution_count": 760,
   "metadata": {},
   "outputs": [
    {
     "data": {
      "text/plain": [
       "array([[ 6010, 13695],\n",
       "       [17401, 15830],\n",
       "       [18221, 12964],\n",
       "       ...,\n",
       "       [14245, 15595],\n",
       "       [15892, 16071],\n",
       "       [16299, 12489]], dtype=int64)"
      ]
     },
     "execution_count": 760,
     "metadata": {},
     "output_type": "execute_result"
    }
   ],
   "source": [
    "modelo.obsm[\"spatial\"]"
   ]
  },
  {
   "cell_type": "code",
   "execution_count": 761,
   "metadata": {},
   "outputs": [
    {
     "data": {
      "text/plain": [
       "<3493x36601 sparse matrix of type '<class 'numpy.float32'>'\n",
       "\twith 12249535 stored elements in Compressed Sparse Row format>"
      ]
     },
     "execution_count": 761,
     "metadata": {},
     "output_type": "execute_result"
    }
   ],
   "source": [
    "modelo.X"
   ]
  },
  {
   "cell_type": "code",
   "execution_count": 762,
   "metadata": {},
   "outputs": [],
   "source": [
    "a = \"gene_ids\", \"feature_types\""
   ]
  },
  {
   "cell_type": "code",
   "execution_count": 763,
   "metadata": {},
   "outputs": [
    {
     "data": {
      "text/html": [
       "<div>\n",
       "<style scoped>\n",
       "    .dataframe tbody tr th:only-of-type {\n",
       "        vertical-align: middle;\n",
       "    }\n",
       "\n",
       "    .dataframe tbody tr th {\n",
       "        vertical-align: top;\n",
       "    }\n",
       "\n",
       "    .dataframe thead th {\n",
       "        text-align: right;\n",
       "    }\n",
       "</style>\n",
       "<table border=\"1\" class=\"dataframe\">\n",
       "  <thead>\n",
       "    <tr style=\"text-align: right;\">\n",
       "      <th></th>\n",
       "      <th>gene_ids</th>\n",
       "      <th>feature_types</th>\n",
       "      <th>genome</th>\n",
       "    </tr>\n",
       "  </thead>\n",
       "  <tbody>\n",
       "    <tr>\n",
       "      <th>MIR1302-2HG</th>\n",
       "      <td>ENSG00000243485</td>\n",
       "      <td>Gene Expression</td>\n",
       "      <td>GRCh38</td>\n",
       "    </tr>\n",
       "    <tr>\n",
       "      <th>FAM138A</th>\n",
       "      <td>ENSG00000237613</td>\n",
       "      <td>Gene Expression</td>\n",
       "      <td>GRCh38</td>\n",
       "    </tr>\n",
       "    <tr>\n",
       "      <th>OR4F5</th>\n",
       "      <td>ENSG00000186092</td>\n",
       "      <td>Gene Expression</td>\n",
       "      <td>GRCh38</td>\n",
       "    </tr>\n",
       "    <tr>\n",
       "      <th>AL627309.1</th>\n",
       "      <td>ENSG00000238009</td>\n",
       "      <td>Gene Expression</td>\n",
       "      <td>GRCh38</td>\n",
       "    </tr>\n",
       "    <tr>\n",
       "      <th>AL627309.3</th>\n",
       "      <td>ENSG00000239945</td>\n",
       "      <td>Gene Expression</td>\n",
       "      <td>GRCh38</td>\n",
       "    </tr>\n",
       "  </tbody>\n",
       "</table>\n",
       "</div>"
      ],
      "text/plain": [
       "                    gene_ids    feature_types  genome\n",
       "MIR1302-2HG  ENSG00000243485  Gene Expression  GRCh38\n",
       "FAM138A      ENSG00000237613  Gene Expression  GRCh38\n",
       "OR4F5        ENSG00000186092  Gene Expression  GRCh38\n",
       "AL627309.1   ENSG00000238009  Gene Expression  GRCh38\n",
       "AL627309.3   ENSG00000239945  Gene Expression  GRCh38"
      ]
     },
     "execution_count": 763,
     "metadata": {},
     "output_type": "execute_result"
    }
   ],
   "source": [
    "modelo.var.head(5)"
   ]
  },
  {
   "cell_type": "code",
   "execution_count": 764,
   "metadata": {},
   "outputs": [
    {
     "data": {
      "text/html": [
       "<div>\n",
       "<style scoped>\n",
       "    .dataframe tbody tr th:only-of-type {\n",
       "        vertical-align: middle;\n",
       "    }\n",
       "\n",
       "    .dataframe tbody tr th {\n",
       "        vertical-align: top;\n",
       "    }\n",
       "\n",
       "    .dataframe thead th {\n",
       "        text-align: right;\n",
       "    }\n",
       "</style>\n",
       "<table border=\"1\" class=\"dataframe\">\n",
       "  <thead>\n",
       "    <tr style=\"text-align: right;\">\n",
       "      <th></th>\n",
       "      <th>in_tissue</th>\n",
       "      <th>array_row</th>\n",
       "      <th>array_col</th>\n",
       "    </tr>\n",
       "  </thead>\n",
       "  <tbody>\n",
       "    <tr>\n",
       "      <th>AAACAAGTATCTCCCA-1</th>\n",
       "      <td>1</td>\n",
       "      <td>50</td>\n",
       "      <td>102</td>\n",
       "    </tr>\n",
       "    <tr>\n",
       "      <th>AAACACCAATAACTGC-1</th>\n",
       "      <td>1</td>\n",
       "      <td>59</td>\n",
       "      <td>19</td>\n",
       "    </tr>\n",
       "    <tr>\n",
       "      <th>AAACAGGGTCTATATT-1</th>\n",
       "      <td>1</td>\n",
       "      <td>47</td>\n",
       "      <td>13</td>\n",
       "    </tr>\n",
       "    <tr>\n",
       "      <th>AAACATTTCCCGGATT-1</th>\n",
       "      <td>1</td>\n",
       "      <td>61</td>\n",
       "      <td>97</td>\n",
       "    </tr>\n",
       "    <tr>\n",
       "      <th>AAACCCGAACGAAATC-1</th>\n",
       "      <td>1</td>\n",
       "      <td>45</td>\n",
       "      <td>115</td>\n",
       "    </tr>\n",
       "  </tbody>\n",
       "</table>\n",
       "</div>"
      ],
      "text/plain": [
       "                    in_tissue  array_row  array_col\n",
       "AAACAAGTATCTCCCA-1          1         50        102\n",
       "AAACACCAATAACTGC-1          1         59         19\n",
       "AAACAGGGTCTATATT-1          1         47         13\n",
       "AAACATTTCCCGGATT-1          1         61         97\n",
       "AAACCCGAACGAAATC-1          1         45        115"
      ]
     },
     "execution_count": 764,
     "metadata": {},
     "output_type": "execute_result"
    }
   ],
   "source": [
    "modelo.obs.head(5)"
   ]
  },
  {
   "cell_type": "code",
   "execution_count": 765,
   "metadata": {},
   "outputs": [
    {
     "data": {
      "text/plain": [
       "AnnData object with n_obs × n_vars = 36601 × 176"
      ]
     },
     "execution_count": 765,
     "metadata": {},
     "output_type": "execute_result"
    }
   ],
   "source": [
    "adata"
   ]
  },
  {
   "cell_type": "code",
   "execution_count": 766,
   "metadata": {},
   "outputs": [],
   "source": [
    "adata = adata.T"
   ]
  },
  {
   "cell_type": "code",
   "execution_count": 767,
   "metadata": {},
   "outputs": [],
   "source": [
    "adata.var = genes"
   ]
  },
  {
   "cell_type": "code",
   "execution_count": 768,
   "metadata": {},
   "outputs": [
    {
     "data": {
      "text/html": [
       "<div>\n",
       "<style scoped>\n",
       "    .dataframe tbody tr th:only-of-type {\n",
       "        vertical-align: middle;\n",
       "    }\n",
       "\n",
       "    .dataframe tbody tr th {\n",
       "        vertical-align: top;\n",
       "    }\n",
       "\n",
       "    .dataframe thead th {\n",
       "        text-align: right;\n",
       "    }\n",
       "</style>\n",
       "<table border=\"1\" class=\"dataframe\">\n",
       "  <thead>\n",
       "    <tr style=\"text-align: right;\">\n",
       "      <th></th>\n",
       "    </tr>\n",
       "  </thead>\n",
       "  <tbody>\n",
       "    <tr>\n",
       "      <th>0</th>\n",
       "    </tr>\n",
       "    <tr>\n",
       "      <th>1</th>\n",
       "    </tr>\n",
       "    <tr>\n",
       "      <th>2</th>\n",
       "    </tr>\n",
       "    <tr>\n",
       "      <th>3</th>\n",
       "    </tr>\n",
       "    <tr>\n",
       "      <th>4</th>\n",
       "    </tr>\n",
       "  </tbody>\n",
       "</table>\n",
       "</div>"
      ],
      "text/plain": [
       "Empty DataFrame\n",
       "Columns: []\n",
       "Index: [0, 1, 2, 3, 4]"
      ]
     },
     "execution_count": 768,
     "metadata": {},
     "output_type": "execute_result"
    }
   ],
   "source": [
    "adata.obs.head(5)"
   ]
  },
  {
   "cell_type": "code",
   "execution_count": 769,
   "metadata": {},
   "outputs": [],
   "source": [
    "barcodes.index.name = None"
   ]
  },
  {
   "cell_type": "code",
   "execution_count": 770,
   "metadata": {},
   "outputs": [
    {
     "data": {
      "text/html": [
       "<div>\n",
       "<style scoped>\n",
       "    .dataframe tbody tr th:only-of-type {\n",
       "        vertical-align: middle;\n",
       "    }\n",
       "\n",
       "    .dataframe tbody tr th {\n",
       "        vertical-align: top;\n",
       "    }\n",
       "\n",
       "    .dataframe thead th {\n",
       "        text-align: right;\n",
       "    }\n",
       "</style>\n",
       "<table border=\"1\" class=\"dataframe\">\n",
       "  <thead>\n",
       "    <tr style=\"text-align: right;\">\n",
       "      <th></th>\n",
       "      <th>0</th>\n",
       "    </tr>\n",
       "  </thead>\n",
       "  <tbody>\n",
       "    <tr>\n",
       "      <th>0</th>\n",
       "      <td>AAACTGCTGGCTCCAA-1</td>\n",
       "    </tr>\n",
       "    <tr>\n",
       "      <th>1</th>\n",
       "      <td>AAATACCTATAAGCAT-1</td>\n",
       "    </tr>\n",
       "    <tr>\n",
       "      <th>2</th>\n",
       "      <td>AAATCGTGTACCACAA-1</td>\n",
       "    </tr>\n",
       "    <tr>\n",
       "      <th>3</th>\n",
       "      <td>AATGACGTAGGATGTC-1</td>\n",
       "    </tr>\n",
       "    <tr>\n",
       "      <th>4</th>\n",
       "      <td>AATTGAACGCTCTGGT-1</td>\n",
       "    </tr>\n",
       "  </tbody>\n",
       "</table>\n",
       "</div>"
      ],
      "text/plain": [
       "                    0\n",
       "0  AAACTGCTGGCTCCAA-1\n",
       "1  AAATACCTATAAGCAT-1\n",
       "2  AAATCGTGTACCACAA-1\n",
       "3  AATGACGTAGGATGTC-1\n",
       "4  AATTGAACGCTCTGGT-1"
      ]
     },
     "execution_count": 770,
     "metadata": {},
     "output_type": "execute_result"
    }
   ],
   "source": [
    "barcodes.head(5)"
   ]
  },
  {
   "cell_type": "code",
   "execution_count": 771,
   "metadata": {},
   "outputs": [],
   "source": [
    "pos = pd.merge(pos_info, barcodes, how='inner', on=[0])"
   ]
  },
  {
   "cell_type": "code",
   "execution_count": 772,
   "metadata": {},
   "outputs": [],
   "source": [
    "pos = pos[[0,4,5]]"
   ]
  },
  {
   "cell_type": "code",
   "execution_count": 773,
   "metadata": {},
   "outputs": [],
   "source": [
    "pos.index = pos[0]\n",
    "del pos[0]"
   ]
  },
  {
   "cell_type": "code",
   "execution_count": 774,
   "metadata": {},
   "outputs": [],
   "source": [
    "pos = pos.rename(columns={4:\"array_row\", 5:\"array_col\"})"
   ]
  },
  {
   "cell_type": "code",
   "execution_count": 775,
   "metadata": {},
   "outputs": [],
   "source": [
    "pos.index.name = None"
   ]
  },
  {
   "cell_type": "code",
   "execution_count": 776,
   "metadata": {},
   "outputs": [
    {
     "data": {
      "text/html": [
       "<div>\n",
       "<style scoped>\n",
       "    .dataframe tbody tr th:only-of-type {\n",
       "        vertical-align: middle;\n",
       "    }\n",
       "\n",
       "    .dataframe tbody tr th {\n",
       "        vertical-align: top;\n",
       "    }\n",
       "\n",
       "    .dataframe thead th {\n",
       "        text-align: right;\n",
       "    }\n",
       "</style>\n",
       "<table border=\"1\" class=\"dataframe\">\n",
       "  <thead>\n",
       "    <tr style=\"text-align: right;\">\n",
       "      <th></th>\n",
       "      <th>array_row</th>\n",
       "      <th>array_col</th>\n",
       "    </tr>\n",
       "  </thead>\n",
       "  <tbody>\n",
       "    <tr>\n",
       "      <th>GCATAGAGCACTCAGG-1</th>\n",
       "      <td>4716</td>\n",
       "      <td>4459</td>\n",
       "    </tr>\n",
       "    <tr>\n",
       "      <th>GCAGATTAGGGATATC-1</th>\n",
       "      <td>4722</td>\n",
       "      <td>4568</td>\n",
       "    </tr>\n",
       "    <tr>\n",
       "      <th>CAATTTCGTATAAGGG-1</th>\n",
       "      <td>4727</td>\n",
       "      <td>4678</td>\n",
       "    </tr>\n",
       "    <tr>\n",
       "      <th>CCAGCCTGGACCAATA-1</th>\n",
       "      <td>4733</td>\n",
       "      <td>4788</td>\n",
       "    </tr>\n",
       "    <tr>\n",
       "      <th>CACTCAAGAGCTATGG-1</th>\n",
       "      <td>4901</td>\n",
       "      <td>4339</td>\n",
       "    </tr>\n",
       "  </tbody>\n",
       "</table>\n",
       "</div>"
      ],
      "text/plain": [
       "                    array_row  array_col\n",
       "GCATAGAGCACTCAGG-1       4716       4459\n",
       "GCAGATTAGGGATATC-1       4722       4568\n",
       "CAATTTCGTATAAGGG-1       4727       4678\n",
       "CCAGCCTGGACCAATA-1       4733       4788\n",
       "CACTCAAGAGCTATGG-1       4901       4339"
      ]
     },
     "execution_count": 776,
     "metadata": {},
     "output_type": "execute_result"
    }
   ],
   "source": [
    "pos.head(5)"
   ]
  },
  {
   "cell_type": "code",
   "execution_count": 777,
   "metadata": {},
   "outputs": [
    {
     "data": {
      "text/plain": [
       "AnnData object with n_obs × n_vars = 176 × 36601\n",
       "    var: 'gene_ids', 'feature_types'"
      ]
     },
     "execution_count": 777,
     "metadata": {},
     "output_type": "execute_result"
    }
   ],
   "source": [
    "adata"
   ]
  },
  {
   "cell_type": "code",
   "execution_count": 778,
   "metadata": {},
   "outputs": [],
   "source": [
    "adata.obs = pos"
   ]
  },
  {
   "cell_type": "code",
   "execution_count": 779,
   "metadata": {},
   "outputs": [
    {
     "data": {
      "text/html": [
       "<div>\n",
       "<style scoped>\n",
       "    .dataframe tbody tr th:only-of-type {\n",
       "        vertical-align: middle;\n",
       "    }\n",
       "\n",
       "    .dataframe tbody tr th {\n",
       "        vertical-align: top;\n",
       "    }\n",
       "\n",
       "    .dataframe thead th {\n",
       "        text-align: right;\n",
       "    }\n",
       "</style>\n",
       "<table border=\"1\" class=\"dataframe\">\n",
       "  <thead>\n",
       "    <tr style=\"text-align: right;\">\n",
       "      <th></th>\n",
       "      <th>array_row</th>\n",
       "      <th>array_col</th>\n",
       "    </tr>\n",
       "  </thead>\n",
       "  <tbody>\n",
       "    <tr>\n",
       "      <th>GCATAGAGCACTCAGG-1</th>\n",
       "      <td>4716</td>\n",
       "      <td>4459</td>\n",
       "    </tr>\n",
       "    <tr>\n",
       "      <th>GCAGATTAGGGATATC-1</th>\n",
       "      <td>4722</td>\n",
       "      <td>4568</td>\n",
       "    </tr>\n",
       "    <tr>\n",
       "      <th>CAATTTCGTATAAGGG-1</th>\n",
       "      <td>4727</td>\n",
       "      <td>4678</td>\n",
       "    </tr>\n",
       "    <tr>\n",
       "      <th>CCAGCCTGGACCAATA-1</th>\n",
       "      <td>4733</td>\n",
       "      <td>4788</td>\n",
       "    </tr>\n",
       "    <tr>\n",
       "      <th>CACTCAAGAGCTATGG-1</th>\n",
       "      <td>4901</td>\n",
       "      <td>4339</td>\n",
       "    </tr>\n",
       "    <tr>\n",
       "      <th>...</th>\n",
       "      <td>...</td>\n",
       "      <td>...</td>\n",
       "    </tr>\n",
       "    <tr>\n",
       "      <th>CTGCACAACTACATAT-1</th>\n",
       "      <td>6006</td>\n",
       "      <td>5326</td>\n",
       "    </tr>\n",
       "    <tr>\n",
       "      <th>TCGCACCAGGAGGCAG-1</th>\n",
       "      <td>6018</td>\n",
       "      <td>5546</td>\n",
       "    </tr>\n",
       "    <tr>\n",
       "      <th>ACAAATCGCACCGAAT-1</th>\n",
       "      <td>6023</td>\n",
       "      <td>5655</td>\n",
       "    </tr>\n",
       "    <tr>\n",
       "      <th>TTGAACGACGTGCTGA-1</th>\n",
       "      <td>6995</td>\n",
       "      <td>5935</td>\n",
       "    </tr>\n",
       "    <tr>\n",
       "      <th>TCTATAGGTGGGTAAT-1</th>\n",
       "      <td>7533</td>\n",
       "      <td>7062</td>\n",
       "    </tr>\n",
       "  </tbody>\n",
       "</table>\n",
       "<p>176 rows × 2 columns</p>\n",
       "</div>"
      ],
      "text/plain": [
       "                    array_row  array_col\n",
       "GCATAGAGCACTCAGG-1       4716       4459\n",
       "GCAGATTAGGGATATC-1       4722       4568\n",
       "CAATTTCGTATAAGGG-1       4727       4678\n",
       "CCAGCCTGGACCAATA-1       4733       4788\n",
       "CACTCAAGAGCTATGG-1       4901       4339\n",
       "...                       ...        ...\n",
       "CTGCACAACTACATAT-1       6006       5326\n",
       "TCGCACCAGGAGGCAG-1       6018       5546\n",
       "ACAAATCGCACCGAAT-1       6023       5655\n",
       "TTGAACGACGTGCTGA-1       6995       5935\n",
       "TCTATAGGTGGGTAAT-1       7533       7062\n",
       "\n",
       "[176 rows x 2 columns]"
      ]
     },
     "execution_count": 779,
     "metadata": {},
     "output_type": "execute_result"
    }
   ],
   "source": [
    "adata.obs"
   ]
  },
  {
   "cell_type": "code",
   "execution_count": 780,
   "metadata": {},
   "outputs": [
    {
     "data": {
      "text/html": [
       "<div>\n",
       "<style scoped>\n",
       "    .dataframe tbody tr th:only-of-type {\n",
       "        vertical-align: middle;\n",
       "    }\n",
       "\n",
       "    .dataframe tbody tr th {\n",
       "        vertical-align: top;\n",
       "    }\n",
       "\n",
       "    .dataframe thead th {\n",
       "        text-align: right;\n",
       "    }\n",
       "</style>\n",
       "<table border=\"1\" class=\"dataframe\">\n",
       "  <thead>\n",
       "    <tr style=\"text-align: right;\">\n",
       "      <th></th>\n",
       "      <th>array_row</th>\n",
       "      <th>array_col</th>\n",
       "    </tr>\n",
       "  </thead>\n",
       "  <tbody>\n",
       "    <tr>\n",
       "      <th>GCATAGAGCACTCAGG-1</th>\n",
       "      <td>4716</td>\n",
       "      <td>4459</td>\n",
       "    </tr>\n",
       "    <tr>\n",
       "      <th>GCAGATTAGGGATATC-1</th>\n",
       "      <td>4722</td>\n",
       "      <td>4568</td>\n",
       "    </tr>\n",
       "    <tr>\n",
       "      <th>CAATTTCGTATAAGGG-1</th>\n",
       "      <td>4727</td>\n",
       "      <td>4678</td>\n",
       "    </tr>\n",
       "    <tr>\n",
       "      <th>CCAGCCTGGACCAATA-1</th>\n",
       "      <td>4733</td>\n",
       "      <td>4788</td>\n",
       "    </tr>\n",
       "    <tr>\n",
       "      <th>CACTCAAGAGCTATGG-1</th>\n",
       "      <td>4901</td>\n",
       "      <td>4339</td>\n",
       "    </tr>\n",
       "  </tbody>\n",
       "</table>\n",
       "</div>"
      ],
      "text/plain": [
       "                    array_row  array_col\n",
       "GCATAGAGCACTCAGG-1       4716       4459\n",
       "GCAGATTAGGGATATC-1       4722       4568\n",
       "CAATTTCGTATAAGGG-1       4727       4678\n",
       "CCAGCCTGGACCAATA-1       4733       4788\n",
       "CACTCAAGAGCTATGG-1       4901       4339"
      ]
     },
     "execution_count": 780,
     "metadata": {},
     "output_type": "execute_result"
    }
   ],
   "source": [
    "adata.obs.head(5)"
   ]
  },
  {
   "cell_type": "code",
   "execution_count": 781,
   "metadata": {},
   "outputs": [
    {
     "data": {
      "text/html": [
       "<div>\n",
       "<style scoped>\n",
       "    .dataframe tbody tr th:only-of-type {\n",
       "        vertical-align: middle;\n",
       "    }\n",
       "\n",
       "    .dataframe tbody tr th {\n",
       "        vertical-align: top;\n",
       "    }\n",
       "\n",
       "    .dataframe thead th {\n",
       "        text-align: right;\n",
       "    }\n",
       "</style>\n",
       "<table border=\"1\" class=\"dataframe\">\n",
       "  <thead>\n",
       "    <tr style=\"text-align: right;\">\n",
       "      <th></th>\n",
       "      <th>gene_ids</th>\n",
       "      <th>feature_types</th>\n",
       "    </tr>\n",
       "  </thead>\n",
       "  <tbody>\n",
       "    <tr>\n",
       "      <th>ENSG00000243485</th>\n",
       "      <td>MIR1302-2HG</td>\n",
       "      <td>Gene Expression</td>\n",
       "    </tr>\n",
       "    <tr>\n",
       "      <th>ENSG00000237613</th>\n",
       "      <td>FAM138A</td>\n",
       "      <td>Gene Expression</td>\n",
       "    </tr>\n",
       "    <tr>\n",
       "      <th>ENSG00000186092</th>\n",
       "      <td>OR4F5</td>\n",
       "      <td>Gene Expression</td>\n",
       "    </tr>\n",
       "    <tr>\n",
       "      <th>ENSG00000238009</th>\n",
       "      <td>AL627309.1</td>\n",
       "      <td>Gene Expression</td>\n",
       "    </tr>\n",
       "    <tr>\n",
       "      <th>ENSG00000239945</th>\n",
       "      <td>AL627309.3</td>\n",
       "      <td>Gene Expression</td>\n",
       "    </tr>\n",
       "  </tbody>\n",
       "</table>\n",
       "</div>"
      ],
      "text/plain": [
       "                    gene_ids    feature_types\n",
       "ENSG00000243485  MIR1302-2HG  Gene Expression\n",
       "ENSG00000237613      FAM138A  Gene Expression\n",
       "ENSG00000186092        OR4F5  Gene Expression\n",
       "ENSG00000238009   AL627309.1  Gene Expression\n",
       "ENSG00000239945   AL627309.3  Gene Expression"
      ]
     },
     "execution_count": 781,
     "metadata": {},
     "output_type": "execute_result"
    }
   ],
   "source": [
    "adata.var.head(5)"
   ]
  },
  {
   "cell_type": "code",
   "execution_count": 782,
   "metadata": {},
   "outputs": [
    {
     "data": {
      "text/plain": [
       "AnnData object with n_obs × n_vars = 3493 × 36601\n",
       "    obs: 'in_tissue', 'array_row', 'array_col'\n",
       "    var: 'gene_ids', 'feature_types', 'genome'\n",
       "    uns: 'spatial'\n",
       "    obsm: 'spatial'"
      ]
     },
     "execution_count": 782,
     "metadata": {},
     "output_type": "execute_result"
    }
   ],
   "source": [
    "modelo"
   ]
  },
  {
   "cell_type": "code",
   "execution_count": 783,
   "metadata": {},
   "outputs": [
    {
     "name": "stdout",
     "output_type": "stream",
     "text": [
      "325672 12249535\n"
     ]
    }
   ],
   "source": [
    "print(adata.X.size, modelo.X.size)"
   ]
  },
  {
   "cell_type": "code",
   "execution_count": 784,
   "metadata": {},
   "outputs": [],
   "source": [
    "from anndata import AnnData"
   ]
  },
  {
   "cell_type": "code",
   "execution_count": 785,
   "metadata": {},
   "outputs": [],
   "source": [
    "coordinates = pos.values"
   ]
  },
  {
   "cell_type": "code",
   "execution_count": 786,
   "metadata": {},
   "outputs": [],
   "source": [
    "adata.obsm[\"spatial\"] = coordinates"
   ]
  },
  {
   "cell_type": "code",
   "execution_count": 787,
   "metadata": {},
   "outputs": [
    {
     "data": {
      "text/plain": [
       "OrderedDict([('spatial',\n",
       "              {'Parent_Visium_Human_OvarianCancer': {'images': {'hires': array([[[0.        , 0.        , 0.        ],\n",
       "                         [0.        , 0.        , 0.        ],\n",
       "                         [0.        , 0.        , 0.        ],\n",
       "                         ...,\n",
       "                         [0.01568628, 0.01568628, 0.01960784],\n",
       "                         [0.01568628, 0.01568628, 0.01960784],\n",
       "                         [0.01568628, 0.01568628, 0.01960784]],\n",
       "                 \n",
       "                        [[0.01568628, 0.00784314, 0.01568628],\n",
       "                         [0.01568628, 0.00784314, 0.01568628],\n",
       "                         [0.01568628, 0.00784314, 0.01568628],\n",
       "                         ...,\n",
       "                         [0.01568628, 0.01568628, 0.01960784],\n",
       "                         [0.01568628, 0.01568628, 0.02352941],\n",
       "                         [0.01568628, 0.01568628, 0.01960784]],\n",
       "                 \n",
       "                        [[0.01568628, 0.00784314, 0.01568628],\n",
       "                         [0.01568628, 0.00784314, 0.01568628],\n",
       "                         [0.01568628, 0.00784314, 0.01568628],\n",
       "                         ...,\n",
       "                         [0.01568628, 0.01568628, 0.02352941],\n",
       "                         [0.01568628, 0.01568628, 0.02352941],\n",
       "                         [0.01568628, 0.01568628, 0.01960784]],\n",
       "                 \n",
       "                        ...,\n",
       "                 \n",
       "                        [[0.01568628, 0.00784314, 0.06666667],\n",
       "                         [0.01568628, 0.00784314, 0.06666667],\n",
       "                         [0.01568628, 0.00784314, 0.06666667],\n",
       "                         ...,\n",
       "                         [0.01568628, 0.02352941, 0.02745098],\n",
       "                         [0.01568628, 0.02352941, 0.02745098],\n",
       "                         [0.01568628, 0.02352941, 0.02745098]],\n",
       "                 \n",
       "                        [[0.01568628, 0.00784314, 0.07058824],\n",
       "                         [0.01568628, 0.00784314, 0.07058824],\n",
       "                         [0.01568628, 0.00784314, 0.07058824],\n",
       "                         ...,\n",
       "                         [0.01568628, 0.02352941, 0.02745098],\n",
       "                         [0.01568628, 0.02352941, 0.02745098],\n",
       "                         [0.01568628, 0.02352941, 0.02745098]],\n",
       "                 \n",
       "                        [[0.01568628, 0.00784314, 0.07058824],\n",
       "                         [0.01568628, 0.00784314, 0.07058824],\n",
       "                         [0.01568628, 0.00784314, 0.07058824],\n",
       "                         ...,\n",
       "                         [0.01568628, 0.02352941, 0.02745098],\n",
       "                         [0.01568628, 0.02352941, 0.02745098],\n",
       "                         [0.01568628, 0.02352941, 0.02745098]]], dtype=float32),\n",
       "                 'lowres': array([[[0.        , 0.        , 0.        ],\n",
       "                         [0.        , 0.        , 0.        ],\n",
       "                         [0.        , 0.        , 0.        ],\n",
       "                         ...,\n",
       "                         [0.01176471, 0.01176471, 0.01960784],\n",
       "                         [0.01176471, 0.01176471, 0.01960784],\n",
       "                         [0.01176471, 0.01176471, 0.01568628]],\n",
       "                 \n",
       "                        [[0.00784314, 0.00784314, 0.01176471],\n",
       "                         [0.00784314, 0.00784314, 0.01176471],\n",
       "                         [0.00784314, 0.00784314, 0.01176471],\n",
       "                         ...,\n",
       "                         [0.01176471, 0.01176471, 0.01960784],\n",
       "                         [0.01176471, 0.01176471, 0.01960784],\n",
       "                         [0.01176471, 0.01176471, 0.01960784]],\n",
       "                 \n",
       "                        [[0.00784314, 0.00784314, 0.01176471],\n",
       "                         [0.00784314, 0.00784314, 0.01176471],\n",
       "                         [0.00784314, 0.00784314, 0.01176471],\n",
       "                         ...,\n",
       "                         [0.01176471, 0.01176471, 0.01960784],\n",
       "                         [0.01176471, 0.01176471, 0.01960784],\n",
       "                         [0.01176471, 0.01176471, 0.01960784]],\n",
       "                 \n",
       "                        ...,\n",
       "                 \n",
       "                        [[0.00784314, 0.00784314, 0.0627451 ],\n",
       "                         [0.00784314, 0.00784314, 0.05882353],\n",
       "                         [0.00784314, 0.00784314, 0.05882353],\n",
       "                         ...,\n",
       "                         [0.01568628, 0.01960784, 0.02352941],\n",
       "                         [0.01568628, 0.01568628, 0.02352941],\n",
       "                         [0.01568628, 0.01568628, 0.02352941]],\n",
       "                 \n",
       "                        [[0.00784314, 0.00784314, 0.0627451 ],\n",
       "                         [0.00784314, 0.00784314, 0.0627451 ],\n",
       "                         [0.00784314, 0.00784314, 0.05882353],\n",
       "                         ...,\n",
       "                         [0.01568628, 0.01960784, 0.02352941],\n",
       "                         [0.01568628, 0.01960784, 0.02352941],\n",
       "                         [0.01568628, 0.01568628, 0.02352941]],\n",
       "                 \n",
       "                        [[0.00784314, 0.00784314, 0.06666667],\n",
       "                         [0.00784314, 0.00784314, 0.06666667],\n",
       "                         [0.00784314, 0.00784314, 0.0627451 ],\n",
       "                         ...,\n",
       "                         [0.01568628, 0.01960784, 0.02352941],\n",
       "                         [0.01568628, 0.01960784, 0.02352941],\n",
       "                         [0.01568628, 0.01960784, 0.02352941]]], dtype=float32)},\n",
       "                'scalefactors': {'spot_diameter_fullres': 178.37655999999998,\n",
       "                 'tissue_hires_scalef': 0.08250825,\n",
       "                 'fiducial_diameter_fullres': 288.1467600000001,\n",
       "                 'tissue_lowres_scalef': 0.024752475},\n",
       "                'metadata': {'chemistry_description': \"Spatial 3' v1\",\n",
       "                 'software_version': 'spaceranger-1.2.0'}}})])"
      ]
     },
     "execution_count": 787,
     "metadata": {},
     "output_type": "execute_result"
    }
   ],
   "source": [
    "modelo.uns"
   ]
  },
  {
   "cell_type": "code",
   "execution_count": 788,
   "metadata": {},
   "outputs": [],
   "source": [
    "uns = pd.DataFrame(modelo.uns)"
   ]
  },
  {
   "cell_type": "code",
   "execution_count": 789,
   "metadata": {},
   "outputs": [
    {
     "data": {
      "text/plain": [
       "AnnData object with n_obs × n_vars = 176 × 36601\n",
       "    obs: 'array_row', 'array_col'\n",
       "    var: 'gene_ids', 'feature_types'\n",
       "    obsm: 'spatial'"
      ]
     },
     "execution_count": 789,
     "metadata": {},
     "output_type": "execute_result"
    }
   ],
   "source": [
    "adata"
   ]
  },
  {
   "cell_type": "code",
   "execution_count": 790,
   "metadata": {},
   "outputs": [],
   "source": [
    "from PIL import Image\n",
    "import numpy as np"
   ]
  },
  {
   "cell_type": "code",
   "execution_count": 791,
   "metadata": {},
   "outputs": [],
   "source": [
    "hirer = \"C:\\\\Users\\\\pedro\\\\OneDrive\\\\Área de Trabalho\\\\projeto_INCA\\\\spatial_ovary\\\\Ovary_v4\\\\data\\\\GEO1\\\\spatial\\\\II21472_tissue_hires_image.png\"\n",
    "lower = \"C:\\\\Users\\\\pedro\\\\OneDrive\\\\Área de Trabalho\\\\projeto_INCA\\\\spatial_ovary\\Ovary_v2\\\\data\\\\GEO2\\\\spatial\\\\II21473_tissue_lowres_image.png\"\n",
    "\n",
    "imh = Image.open(hirer)\n",
    "iml = Image.open(lower)\n",
    "\n",
    "image_hirer = np.array(imh)\n",
    "image_lower = np.array(iml)"
   ]
  },
  {
   "cell_type": "code",
   "execution_count": 792,
   "metadata": {},
   "outputs": [],
   "source": [
    "modelo_uns = {\n",
    "    'spatial': {\n",
    "        'library_id': {\n",
    "            'images': {\n",
    "                'hires': image_hirer,  # Substitua pelo seu array de imagens hires\n",
    "                'lowres': image_lower  # Substitua pelo seu array de imagens lowres\n",
    "            },\n",
    "            'scalefactors': {\n",
    "                \"spot_diameter_fullres\": 71.43368262329287,\n",
    "                \"tissue_hires_scalef\": 0.20631318,\n",
    "                \"fiducial_diameter_fullres\": 115.37384801011467,\n",
    "                \"tissue_lowres_scalef\": 0.061893955\n",
    "            },\n",
    "            'metadata': {\n",
    "                'chemistry_description': \"Spatial 3' v1\",\n",
    "                'software_version': 'spaceranger-1.2.0'\n",
    "            }\n",
    "        }\n",
    "    }\n",
    "}\n"
   ]
  },
  {
   "cell_type": "code",
   "execution_count": 793,
   "metadata": {},
   "outputs": [],
   "source": [
    "adata.uns = modelo_uns"
   ]
  },
  {
   "cell_type": "code",
   "execution_count": 794,
   "metadata": {},
   "outputs": [
    {
     "data": {
      "text/plain": [
       "AnnData object with n_obs × n_vars = 176 × 36601\n",
       "    obs: 'array_row', 'array_col'\n",
       "    var: 'gene_ids', 'feature_types'\n",
       "    uns: 'spatial'\n",
       "    obsm: 'spatial'"
      ]
     },
     "execution_count": 794,
     "metadata": {},
     "output_type": "execute_result"
    }
   ],
   "source": [
    "adata"
   ]
  },
  {
   "cell_type": "code",
   "execution_count": 795,
   "metadata": {},
   "outputs": [
    {
     "data": {
      "text/plain": [
       "AnnData object with n_obs × n_vars = 131 × 4483\n",
       "    obs: 'array_row', 'array_col', 'n_genes_by_counts', 'log1p_n_genes_by_counts', 'total_counts', 'log1p_total_counts', 'pct_counts_in_top_50_genes', 'pct_counts_in_top_100_genes', 'pct_counts_in_top_200_genes', 'pct_counts_in_top_500_genes', 'total_counts_mt', 'log1p_total_counts_mt', 'pct_counts_mt', 'n_counts', 'leiden'\n",
       "    var: 'gene_ids', 'feature_types', 'mt', 'n_cells_by_counts', 'mean_counts', 'log1p_mean_counts', 'pct_dropout_by_counts', 'total_counts', 'log1p_total_counts', 'n_cells', 'highly_variable', 'means', 'dispersions', 'dispersions_norm'\n",
       "    uns: 'hvg', 'leiden', 'leiden_colors', 'log1p', 'neighbors', 'pca', 'spatial', 'umap'\n",
       "    obsm: 'X_pca', 'X_umap', 'spatial'\n",
       "    varm: 'PCs'\n",
       "    layers: 'counts'\n",
       "    obsp: 'connectivities', 'distances'"
      ]
     },
     "execution_count": 795,
     "metadata": {},
     "output_type": "execute_result"
    }
   ],
   "source": [
    "sc.read(\"C:\\\\Users\\\\pedro\\\\OneDrive\\\\Área de Trabalho\\\\projeto_INCA\\\\spatial_ovary\\\\Ovary_v4\\\\data\\\\Resultados\\\\GEO_files\\\\PP_GEO12.h5ad\")"
   ]
  },
  {
   "cell_type": "code",
   "execution_count": 799,
   "metadata": {},
   "outputs": [
    {
     "name": "stdout",
     "output_type": "stream",
     "text": [
      "45\n"
     ]
    }
   ],
   "source": [
    "# 9 , 21480\n",
    "# 102 , 23420\n",
    "# 26 , 24006\n",
    "# 43 , 22974\n",
    "# 18 , 20691\n",
    "# 13 , 21323\n",
    "# 121 , 27880\n",
    "##### 24 , 34000\n",
    "#6 ,  \n",
    "# 288 , \n",
    "#36\n",
    "# 45\n",
    "print(176       - 131      )\n",
    "barcodes_cortados = sum([9, 102, 26, 43, 18, 13, 121, 24, 6,288, 36, 45])\n",
    "genes_cortados = sum([21480, 23420])\n",
    "barcodes_cortados\n",
    "dado_tenx = 93"
   ]
  },
  {
   "cell_type": "code",
   "execution_count": 800,
   "metadata": {},
   "outputs": [
    {
     "data": {
      "text/plain": [
       "824"
      ]
     },
     "execution_count": 800,
     "metadata": {},
     "output_type": "execute_result"
    }
   ],
   "source": [
    "barcodes_cortados + dado_tenx"
   ]
  },
  {
   "cell_type": "code",
   "execution_count": null,
   "metadata": {},
   "outputs": [
    {
     "data": {
      "text/plain": [
       "{'spatial': {'library_id': {'images': {'hires': array([[[  2,   2,   2, 255],\n",
       "            [ 61,  61,  61, 255],\n",
       "            [ 86,  86,  87, 255],\n",
       "            ...,\n",
       "            [174, 172, 174, 255],\n",
       "            [164, 162, 165, 255],\n",
       "            [ 37,  36,  37, 255]],\n",
       "    \n",
       "           [[  6,   6,   6, 255],\n",
       "            [163, 163, 164, 255],\n",
       "            [230, 228, 231, 255],\n",
       "            ...,\n",
       "            [231, 229, 232, 255],\n",
       "            [218, 217, 219, 255],\n",
       "            [ 49,  49,  49, 255]],\n",
       "    \n",
       "           [[  6,   6,   6, 255],\n",
       "            [164, 163, 164, 255],\n",
       "            [231, 230, 232, 255],\n",
       "            ...,\n",
       "            [230, 230, 232, 255],\n",
       "            [218, 217, 219, 255],\n",
       "            [ 49,  49,  49, 255]],\n",
       "    \n",
       "           ...,\n",
       "    \n",
       "           [[134, 133, 134, 255],\n",
       "            [230, 230, 231, 255],\n",
       "            [230, 230, 231, 255],\n",
       "            ...,\n",
       "            [231, 230, 231, 255],\n",
       "            [231, 230, 231, 255],\n",
       "            [173, 172, 174, 255]],\n",
       "    \n",
       "           [[134, 133, 133, 255],\n",
       "            [231, 230, 230, 255],\n",
       "            [231, 230, 231, 255],\n",
       "            ...,\n",
       "            [231, 230, 231, 255],\n",
       "            [231, 230, 231, 255],\n",
       "            [173, 172, 173, 255]],\n",
       "    \n",
       "           [[134, 134, 133, 255],\n",
       "            [231, 230, 230, 255],\n",
       "            [231, 230, 230, 255],\n",
       "            ...,\n",
       "            [ 92,  91,  92, 255],\n",
       "            [ 92,  91,  92, 255],\n",
       "            [ 69,  69,  69, 255]]], dtype=uint8),\n",
       "    'lowres': array([[[108, 107, 108],\n",
       "            [141, 141, 142],\n",
       "            [141, 141, 141],\n",
       "            ...,\n",
       "            [185, 184, 185],\n",
       "            [185, 185, 185],\n",
       "            [186, 185, 185]],\n",
       "    \n",
       "           [[176, 174, 176],\n",
       "            [230, 229, 231],\n",
       "            [230, 229, 230],\n",
       "            ...,\n",
       "            [231, 229, 231],\n",
       "            [231, 230, 231],\n",
       "            [231, 230, 231]],\n",
       "    \n",
       "           [[176, 174, 176],\n",
       "            [230, 229, 231],\n",
       "            [230, 229, 230],\n",
       "            ...,\n",
       "            [230, 230, 231],\n",
       "            [231, 230, 231],\n",
       "            [231, 230, 230]],\n",
       "    \n",
       "           ...,\n",
       "    \n",
       "           [[194, 193, 195],\n",
       "            [230, 229, 231],\n",
       "            [230, 229, 231],\n",
       "            ...,\n",
       "            [231, 230, 231],\n",
       "            [227, 226, 227],\n",
       "            [ 77,  77,  77]],\n",
       "    \n",
       "           [[194, 193, 195],\n",
       "            [230, 229, 231],\n",
       "            [230, 229, 231],\n",
       "            ...,\n",
       "            [231, 230, 231],\n",
       "            [227, 226, 227],\n",
       "            [ 77,  77,  77]],\n",
       "    \n",
       "           [[139, 138, 140],\n",
       "            [165, 164, 166],\n",
       "            [164, 164, 165],\n",
       "            ...,\n",
       "            [194, 193, 194],\n",
       "            [191, 190, 191],\n",
       "            [ 64,  64,  64]]], dtype=uint8)},\n",
       "   'scalefactors': {'spot_diameter_fullres': 71.43368262329287,\n",
       "    'tissue_hires_scalef': 0.20631318,\n",
       "    'fiducial_diameter_fullres': 115.37384801011467,\n",
       "    'tissue_lowres_scalef': 0.061893955},\n",
       "   'metadata': {'chemistry_description': \"Spatial 3' v1\",\n",
       "    'software_version': 'spaceranger-1.2.0'}}}}"
      ]
     },
     "execution_count": 105,
     "metadata": {},
     "output_type": "execute_result"
    }
   ],
   "source": [
    "adata.uns"
   ]
  },
  {
   "cell_type": "code",
   "execution_count": null,
   "metadata": {},
   "outputs": [],
   "source": [
    "new_adata = \"C:\\\\Users\\\\pedro\\\\OneDrive\\\\Área de Trabalho\\\\projeto_INCA\\\\spatial_ovary\\\\Ovary_v4\\\\data\\\\my_adata\\\\new_adata\"\n",
    "adata.write_h5ad(new_adata)"
   ]
  },
  {
   "cell_type": "code",
   "execution_count": null,
   "metadata": {},
   "outputs": [],
   "source": [
    "adata = sc.read_h5ad(new_adata)"
   ]
  },
  {
   "cell_type": "code",
   "execution_count": 52,
   "metadata": {},
   "outputs": [
    {
     "data": {
      "image/png": "[encoded data removed]",
      "text/plain": [
       "<Figure size 640x480 with 1 Axes>"
      ]
     },
     "metadata": {},
     "output_type": "display_data"
    }
   ],
   "source": [
    "sc.pl.spatial(adata)"
   ]
  },
  {
   "cell_type": "code",
   "execution_count": 53,
   "metadata": {},
   "outputs": [
    {
     "data": {
      "text/plain": [
       "AnnData object with n_obs × n_vars = 176 × 36601\n",
       "    obs: 'array_row', 'array_col'\n",
       "    var: 'gene_ids', 'feature_types'\n",
       "    uns: 'spatial'\n",
       "    obsm: 'spatial'"
      ]
     },
     "execution_count": 53,
     "metadata": {},
     "output_type": "execute_result"
    }
   ],
   "source": [
    "adata"
   ]
  },
  {
   "cell_type": "code",
   "execution_count": null,
   "metadata": {},
   "outputs": [],
   "source": [
    "######stop######"
   ]
  },
  {
   "cell_type": "code",
   "execution_count": null,
   "metadata": {},
   "outputs": [],
   "source": [
    "DESLIGA O MONITOR QUE GASTA ENERGIA SEUS BUNDA MOLE"
   ]
  },
  {
   "cell_type": "code",
   "execution_count": 60,
   "metadata": {},
   "outputs": [],
   "source": [
    "adata.uns[\"spatial\"] = {\"library_id\": {}}"
   ]
  },
  {
   "cell_type": "code",
   "execution_count": 61,
   "metadata": {},
   "outputs": [],
   "source": [
    "adata.uns[\"spatial\"][\"library_id\"][\"images\"] = {}"
   ]
  },
  {
   "cell_type": "code",
   "execution_count": 62,
   "metadata": {},
   "outputs": [],
   "source": [
    "adata.uns['spatial'][\"library_id\"]['images']['hires'] = image.astype(np.float32)"
   ]
  },
  {
   "cell_type": "code",
   "execution_count": 68,
   "metadata": {},
   "outputs": [
    {
     "data": {
      "text/plain": [
       "OrderedDict([('spatial',\n",
       "              {'library_id': {'images': {'hires': array([[[ 41.,  39.,  39.],\n",
       "                         [ 41.,  39.,  39.],\n",
       "                         [ 41.,  39.,  39.],\n",
       "                         ...,\n",
       "                         [198., 193., 186.],\n",
       "                         [192., 186., 179.],\n",
       "                         [ 53.,  51.,  49.]],\n",
       "                 \n",
       "                        [[189., 178., 179.],\n",
       "                         [189., 179., 177.],\n",
       "                         [189., 180., 177.],\n",
       "                         ...,\n",
       "                         [198., 193., 186.],\n",
       "                         [192., 186., 180.],\n",
       "                         [ 52.,  50.,  49.]],\n",
       "                 \n",
       "                        [[201., 189., 189.],\n",
       "                         [201., 191., 188.],\n",
       "                         [201., 192., 188.],\n",
       "                         ...,\n",
       "                         [198., 193., 185.],\n",
       "                         [192., 186., 180.],\n",
       "                         [ 52.,  50.,  49.]],\n",
       "                 \n",
       "                        ...,\n",
       "                 \n",
       "                        [[ 74.,  70.,  69.],\n",
       "                         [201., 190., 189.],\n",
       "                         [202., 192., 190.],\n",
       "                         ...,\n",
       "                         [199., 194., 186.],\n",
       "                         [152., 148., 141.],\n",
       "                         [  8.,   8.,   7.]],\n",
       "                 \n",
       "                        [[ 63.,  58.,  59.],\n",
       "                         [170., 160., 159.],\n",
       "                         [170., 162., 160.],\n",
       "                         ...,\n",
       "                         [198., 192., 184.],\n",
       "                         [151., 147., 139.],\n",
       "                         [  7.,   7.,   6.]],\n",
       "                 \n",
       "                        [[  6.,   6.,   6.],\n",
       "                         [ 18.,  17.,  17.],\n",
       "                         [ 18.,  17.,  17.],\n",
       "                         ...,\n",
       "                         [ 73.,  71.,  68.],\n",
       "                         [ 55.,  54.,  51.],\n",
       "                         [  2.,   2.,   2.]]], dtype=float32)}}})])"
      ]
     },
     "execution_count": 68,
     "metadata": {},
     "output_type": "execute_result"
    }
   ],
   "source": [
    "adata.uns"
   ]
  },
  {
   "cell_type": "code",
   "execution_count": 64,
   "metadata": {},
   "outputs": [],
   "source": [
    "adata.write(\"C:\\\\Users\\\\pedro\\\\OneDrive\\\\Área de Trabalho\\\\projeto_INCA\\\\spatial_ovary\\\\Ovary_v4\\\\data\\\\my_adata\\\\GEO.h5ad\")"
   ]
  },
  {
   "cell_type": "code",
   "execution_count": 65,
   "metadata": {},
   "outputs": [],
   "source": [
    "adata.write(\"C:\\\\Users\\\\pedro\\\\OneDrive\\\\Área de Trabalho\\\\projeto_INCA\\\\spatial_ovary\\\\Ovary_v4\\\\data\\\\my_adata\\\\GEO.hdf5\")"
   ]
  },
  {
   "cell_type": "code",
   "execution_count": 67,
   "metadata": {},
   "outputs": [
    {
     "ename": "SyntaxError",
     "evalue": "(unicode error) 'unicodeescape' codec can't decode bytes in position 2-3: truncated \\UXXXXXXXX escape (485288276.py, line 1)",
     "output_type": "error",
     "traceback": [
      "\u001b[1;36m  Cell \u001b[1;32mIn[67], line 1\u001b[1;36m\u001b[0m\n\u001b[1;33m    sc.read_h5ad(\"C:\\Users\\pedro\\OneDrive\\Área de Trabalho\\projeto_INCA\\spatial_ovary\\Ovary_v4\\data\\my_adata\\GEO.h5ad\")\u001b[0m\n\u001b[1;37m                                                                                                                      ^\u001b[0m\n\u001b[1;31mSyntaxError\u001b[0m\u001b[1;31m:\u001b[0m (unicode error) 'unicodeescape' codec can't decode bytes in position 2-3: truncated \\UXXXXXXXX escape\n"
     ]
    }
   ],
   "source": [
    "sc.read_h5ad(\"C:\\Users\\pedro\\OneDrive\\Área de Trabalho\\projeto_INCA\\spatial_ovary\\Ovary_v4\\data\\my_adata\\GEO.h5ad\")"
   ]
  },
  {
   "cell_type": "code",
   "execution_count": null,
   "metadata": {},
   "outputs": [],
   "source": []
  },
  {
   "cell_type": "code",
   "execution_count": null,
   "metadata": {},
   "outputs": [],
   "source": []
  },
  {
   "cell_type": "code",
   "execution_count": null,
   "metadata": {},
   "outputs": [],
   "source": []
  },
  {
   "cell_type": "code",
   "execution_count": null,
   "metadata": {},
   "outputs": [],
   "source": [
    "#pip freeze > requirements.txt\n"
   ]
  }
 ],
 "metadata": {
  "kernelspec": {
   "display_name": ".venv",
   "language": "python",
   "name": "python3"
  },
  "language_info": {
   "codemirror_mode": {
    "name": "ipython",
    "version": 3
   },
   "file_extension": ".py",
   "mimetype": "text/x-python",
   "name": "python",
   "nbconvert_exporter": "python",
   "pygments_lexer": "ipython3",
   "version": "3.10.12"
  },
  "orig_nbformat": 4
 },
 "nbformat": 4,
 "nbformat_minor": 2
}
