{
 "cells": [
  {
   "cell_type": "code",
   "execution_count": 1,
   "metadata": {},
   "outputs": [
    {
     "ename": "PermissionError",
     "evalue": "[Errno 13] Unable to open file (unable to open file: name = 'C:\\Users\\pedro\\OneDrive\\Área de Trabalho\\SC_ovary\\Spatial_data\\GEO1\\raw_feature_bc_matrix', errno = 13, error message = 'Permission denied', flags = 0, o_flags = 0)",
     "output_type": "error",
     "traceback": [
      "\u001b[1;31m---------------------------------------------------------------------------\u001b[0m",
      "\u001b[1;31mPermissionError\u001b[0m                           Traceback (most recent call last)",
      "Cell \u001b[1;32mIn[1], line 3\u001b[0m\n\u001b[0;32m      1\u001b[0m \u001b[39mimport\u001b[39;00m \u001b[39mscanpy\u001b[39;00m \u001b[39mas\u001b[39;00m \u001b[39msc\u001b[39;00m\n\u001b[1;32m----> 3\u001b[0m sc\u001b[39m.\u001b[39;49mread_visium(path\u001b[39m=\u001b[39;49m\u001b[39m\"\u001b[39;49m\u001b[39mC:\u001b[39;49m\u001b[39m\\\\\u001b[39;49;00m\u001b[39mUsers\u001b[39;49m\u001b[39m\\\\\u001b[39;49;00m\u001b[39mpedro\u001b[39;49m\u001b[39m\\\\\u001b[39;49;00m\u001b[39mOneDrive\u001b[39;49m\u001b[39m\\\\\u001b[39;49;00m\u001b[39mÁrea de Trabalho\u001b[39;49m\u001b[39m\\\\\u001b[39;49;00m\u001b[39mSC_ovary\u001b[39;49m\u001b[39m\\\\\u001b[39;49;00m\u001b[39mSpatial_data\u001b[39;49m\u001b[39m\\\\\u001b[39;49;00m\u001b[39mGEO1\u001b[39;49m\u001b[39m\"\u001b[39;49m,\n\u001b[0;32m      4\u001b[0m                count_file\u001b[39m=\u001b[39;49m\u001b[39m\"\u001b[39;49m\u001b[39mC:\u001b[39;49m\u001b[39m\\\\\u001b[39;49;00m\u001b[39mUsers\u001b[39;49m\u001b[39m\\\\\u001b[39;49;00m\u001b[39mpedro\u001b[39;49m\u001b[39m\\\\\u001b[39;49;00m\u001b[39mOneDrive\u001b[39;49m\u001b[39m\\\\\u001b[39;49;00m\u001b[39mÁrea de Trabalho\u001b[39;49m\u001b[39m\\\\\u001b[39;49;00m\u001b[39mSC_ovary\u001b[39;49m\u001b[39m\\\\\u001b[39;49;00m\u001b[39mSpatial_data\u001b[39;49m\u001b[39m\\\\\u001b[39;49;00m\u001b[39mGEO1\u001b[39;49m\u001b[39m\\\\\u001b[39;49;00m\u001b[39mraw_feature_bc_matrix\u001b[39;49m\u001b[39m\"\u001b[39;49m,\n\u001b[0;32m      5\u001b[0m                source_image_path\u001b[39m=\u001b[39;49m\u001b[39m\"\u001b[39;49m\u001b[39mC:\u001b[39;49m\u001b[39m\\\\\u001b[39;49;00m\u001b[39mUsers\u001b[39;49m\u001b[39m\\\\\u001b[39;49;00m\u001b[39mpedro\u001b[39;49m\u001b[39m\\\\\u001b[39;49;00m\u001b[39mOneDrive\u001b[39;49m\u001b[39m\\\\\u001b[39;49;00m\u001b[39mÁrea de Trabalho\u001b[39;49m\u001b[39m\\\\\u001b[39;49;00m\u001b[39mSC_ovary\u001b[39;49m\u001b[39m\\\\\u001b[39;49;00m\u001b[39mSpatial_data\u001b[39;49m\u001b[39m\\\\\u001b[39;49;00m\u001b[39mGEO1\u001b[39;49m\u001b[39m\\\\\u001b[39;49;00m\u001b[39mspatial\u001b[39;49m\u001b[39m\\\\\u001b[39;49;00m\u001b[39mII21472_tissue_hires_image.png\u001b[39;49m\u001b[39m\"\u001b[39;49m)\n",
      "File \u001b[1;32mc:\\Users\\pedro\\OneDrive\\Área de Trabalho\\SC_ovary\\.venv\\Lib\\site-packages\\scanpy\\readwrite.py:360\u001b[0m, in \u001b[0;36mread_visium\u001b[1;34m(path, genome, count_file, library_id, load_images, source_image_path)\u001b[0m\n\u001b[0;32m    306\u001b[0m \u001b[39m\u001b[39m\u001b[39m\"\"\"\\\u001b[39;00m\n\u001b[0;32m    307\u001b[0m \u001b[39mRead 10x-Genomics-formatted visum dataset.\u001b[39;00m\n\u001b[0;32m    308\u001b[0m \n\u001b[1;32m   (...)\u001b[0m\n\u001b[0;32m    357\u001b[0m \u001b[39m    Spatial spot coordinates, usable as `basis` by :func:`~scanpy.pl.embedding`.\u001b[39;00m\n\u001b[0;32m    358\u001b[0m \u001b[39m\"\"\"\u001b[39;00m\n\u001b[0;32m    359\u001b[0m path \u001b[39m=\u001b[39m Path(path)\n\u001b[1;32m--> 360\u001b[0m adata \u001b[39m=\u001b[39m read_10x_h5(path \u001b[39m/\u001b[39;49m count_file, genome\u001b[39m=\u001b[39;49mgenome)\n\u001b[0;32m    362\u001b[0m adata\u001b[39m.\u001b[39muns[\u001b[39m\"\u001b[39m\u001b[39mspatial\u001b[39m\u001b[39m\"\u001b[39m] \u001b[39m=\u001b[39m \u001b[39mdict\u001b[39m()\n\u001b[0;32m    364\u001b[0m \u001b[39mfrom\u001b[39;00m \u001b[39mh5py\u001b[39;00m \u001b[39mimport\u001b[39;00m File\n",
      "File \u001b[1;32mc:\\Users\\pedro\\OneDrive\\Área de Trabalho\\SC_ovary\\.venv\\Lib\\site-packages\\scanpy\\readwrite.py:180\u001b[0m, in \u001b[0;36mread_10x_h5\u001b[1;34m(filename, genome, gex_only, backup_url)\u001b[0m\n\u001b[0;32m    178\u001b[0m \u001b[39mif\u001b[39;00m \u001b[39mnot\u001b[39;00m is_present:\n\u001b[0;32m    179\u001b[0m     logg\u001b[39m.\u001b[39mdebug(\u001b[39mf\u001b[39m\u001b[39m'\u001b[39m\u001b[39m... did not find original file \u001b[39m\u001b[39m{\u001b[39;00mfilename\u001b[39m}\u001b[39;00m\u001b[39m'\u001b[39m)\n\u001b[1;32m--> 180\u001b[0m \u001b[39mwith\u001b[39;00m h5py\u001b[39m.\u001b[39;49mFile(\u001b[39mstr\u001b[39;49m(filename), \u001b[39m'\u001b[39;49m\u001b[39mr\u001b[39;49m\u001b[39m'\u001b[39;49m) \u001b[39mas\u001b[39;00m f:\n\u001b[0;32m    181\u001b[0m     v3 \u001b[39m=\u001b[39m \u001b[39m'\u001b[39m\u001b[39m/matrix\u001b[39m\u001b[39m'\u001b[39m \u001b[39min\u001b[39;00m f\n\u001b[0;32m    182\u001b[0m \u001b[39mif\u001b[39;00m v3:\n",
      "File \u001b[1;32mc:\\Users\\pedro\\OneDrive\\Área de Trabalho\\SC_ovary\\.venv\\Lib\\site-packages\\h5py\\_hl\\files.py:567\u001b[0m, in \u001b[0;36mFile.__init__\u001b[1;34m(self, name, mode, driver, libver, userblock_size, swmr, rdcc_nslots, rdcc_nbytes, rdcc_w0, track_order, fs_strategy, fs_persist, fs_threshold, fs_page_size, page_buf_size, min_meta_keep, min_raw_keep, locking, alignment_threshold, alignment_interval, meta_block_size, **kwds)\u001b[0m\n\u001b[0;32m    558\u001b[0m     fapl \u001b[39m=\u001b[39m make_fapl(driver, libver, rdcc_nslots, rdcc_nbytes, rdcc_w0,\n\u001b[0;32m    559\u001b[0m                      locking, page_buf_size, min_meta_keep, min_raw_keep,\n\u001b[0;32m    560\u001b[0m                      alignment_threshold\u001b[39m=\u001b[39malignment_threshold,\n\u001b[0;32m    561\u001b[0m                      alignment_interval\u001b[39m=\u001b[39malignment_interval,\n\u001b[0;32m    562\u001b[0m                      meta_block_size\u001b[39m=\u001b[39mmeta_block_size,\n\u001b[0;32m    563\u001b[0m                      \u001b[39m*\u001b[39m\u001b[39m*\u001b[39mkwds)\n\u001b[0;32m    564\u001b[0m     fcpl \u001b[39m=\u001b[39m make_fcpl(track_order\u001b[39m=\u001b[39mtrack_order, fs_strategy\u001b[39m=\u001b[39mfs_strategy,\n\u001b[0;32m    565\u001b[0m                      fs_persist\u001b[39m=\u001b[39mfs_persist, fs_threshold\u001b[39m=\u001b[39mfs_threshold,\n\u001b[0;32m    566\u001b[0m                      fs_page_size\u001b[39m=\u001b[39mfs_page_size)\n\u001b[1;32m--> 567\u001b[0m     fid \u001b[39m=\u001b[39m make_fid(name, mode, userblock_size, fapl, fcpl, swmr\u001b[39m=\u001b[39;49mswmr)\n\u001b[0;32m    569\u001b[0m \u001b[39mif\u001b[39;00m \u001b[39misinstance\u001b[39m(libver, \u001b[39mtuple\u001b[39m):\n\u001b[0;32m    570\u001b[0m     \u001b[39mself\u001b[39m\u001b[39m.\u001b[39m_libver \u001b[39m=\u001b[39m libver\n",
      "File \u001b[1;32mc:\\Users\\pedro\\OneDrive\\Área de Trabalho\\SC_ovary\\.venv\\Lib\\site-packages\\h5py\\_hl\\files.py:231\u001b[0m, in \u001b[0;36mmake_fid\u001b[1;34m(name, mode, userblock_size, fapl, fcpl, swmr)\u001b[0m\n\u001b[0;32m    229\u001b[0m     \u001b[39mif\u001b[39;00m swmr \u001b[39mand\u001b[39;00m swmr_support:\n\u001b[0;32m    230\u001b[0m         flags \u001b[39m|\u001b[39m\u001b[39m=\u001b[39m h5f\u001b[39m.\u001b[39mACC_SWMR_READ\n\u001b[1;32m--> 231\u001b[0m     fid \u001b[39m=\u001b[39m h5f\u001b[39m.\u001b[39;49mopen(name, flags, fapl\u001b[39m=\u001b[39;49mfapl)\n\u001b[0;32m    232\u001b[0m \u001b[39melif\u001b[39;00m mode \u001b[39m==\u001b[39m \u001b[39m'\u001b[39m\u001b[39mr+\u001b[39m\u001b[39m'\u001b[39m:\n\u001b[0;32m    233\u001b[0m     fid \u001b[39m=\u001b[39m h5f\u001b[39m.\u001b[39mopen(name, h5f\u001b[39m.\u001b[39mACC_RDWR, fapl\u001b[39m=\u001b[39mfapl)\n",
      "File \u001b[1;32mh5py\\_objects.pyx:54\u001b[0m, in \u001b[0;36mh5py._objects.with_phil.wrapper\u001b[1;34m()\u001b[0m\n",
      "File \u001b[1;32mh5py\\_objects.pyx:55\u001b[0m, in \u001b[0;36mh5py._objects.with_phil.wrapper\u001b[1;34m()\u001b[0m\n",
      "File \u001b[1;32mh5py\\h5f.pyx:106\u001b[0m, in \u001b[0;36mh5py.h5f.open\u001b[1;34m()\u001b[0m\n",
      "\u001b[1;31mPermissionError\u001b[0m: [Errno 13] Unable to open file (unable to open file: name = 'C:\\Users\\pedro\\OneDrive\\Área de Trabalho\\SC_ovary\\Spatial_data\\GEO1\\raw_feature_bc_matrix', errno = 13, error message = 'Permission denied', flags = 0, o_flags = 0)"
     ]
    }
   ],
   "source": [
    "import scanpy as sc\n",
    "import celltypist\n",
    "from celltypist import models\n",
    "\n",
    "sc.read"
   ]
  }
 ],
 "metadata": {
  "kernelspec": {
   "display_name": ".venv",
   "language": "python",
   "name": "python3"
  },
  "language_info": {
   "codemirror_mode": {
    "name": "ipython",
    "version": 3
   },
   "file_extension": ".py",
   "mimetype": "text/x-python",
   "name": "python",
   "nbconvert_exporter": "python",
   "pygments_lexer": "ipython3",
   "version": "3.11.4"
  },
  "orig_nbformat": 4
 },
 "nbformat": 4,
 "nbformat_minor": 2
}
